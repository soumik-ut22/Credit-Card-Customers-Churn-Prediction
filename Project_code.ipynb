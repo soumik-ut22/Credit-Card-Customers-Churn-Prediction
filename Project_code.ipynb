{
 "cells": [
  {
   "cell_type": "code",
   "execution_count": 1,
   "id": "52f4dfd4",
   "metadata": {
    "scrolled": true
   },
   "outputs": [
    {
     "name": "stdout",
     "output_type": "stream",
     "text": [
      "Populating the interactive namespace from numpy and matplotlib\n"
     ]
    },
    {
     "data": {
      "text/html": [
       "<div>\n",
       "<style scoped>\n",
       "    .dataframe tbody tr th:only-of-type {\n",
       "        vertical-align: middle;\n",
       "    }\n",
       "\n",
       "    .dataframe tbody tr th {\n",
       "        vertical-align: top;\n",
       "    }\n",
       "\n",
       "    .dataframe thead th {\n",
       "        text-align: right;\n",
       "    }\n",
       "</style>\n",
       "<table border=\"1\" class=\"dataframe\">\n",
       "  <thead>\n",
       "    <tr style=\"text-align: right;\">\n",
       "      <th></th>\n",
       "      <th>CLIENTNUM</th>\n",
       "      <th>Attrition_Flag</th>\n",
       "      <th>Customer_Age</th>\n",
       "      <th>Gender</th>\n",
       "      <th>Dependent_count</th>\n",
       "      <th>Education_Level</th>\n",
       "      <th>Marital_Status</th>\n",
       "      <th>Income_Category</th>\n",
       "      <th>Card_Category</th>\n",
       "      <th>Months_on_book</th>\n",
       "      <th>...</th>\n",
       "      <th>Months_Inactive_12_mon</th>\n",
       "      <th>Contacts_Count_12_mon</th>\n",
       "      <th>Credit_Limit</th>\n",
       "      <th>Total_Revolving_Bal</th>\n",
       "      <th>Avg_Open_To_Buy</th>\n",
       "      <th>Total_Amt_Chng_Q4_Q1</th>\n",
       "      <th>Total_Trans_Amt</th>\n",
       "      <th>Total_Trans_Ct</th>\n",
       "      <th>Total_Ct_Chng_Q4_Q1</th>\n",
       "      <th>Avg_Utilization_Ratio</th>\n",
       "    </tr>\n",
       "  </thead>\n",
       "  <tbody>\n",
       "    <tr>\n",
       "      <th>0</th>\n",
       "      <td>768805383</td>\n",
       "      <td>Existing Customer</td>\n",
       "      <td>45</td>\n",
       "      <td>M</td>\n",
       "      <td>3</td>\n",
       "      <td>High School</td>\n",
       "      <td>Married</td>\n",
       "      <td>$60K - $80K</td>\n",
       "      <td>Blue</td>\n",
       "      <td>39</td>\n",
       "      <td>...</td>\n",
       "      <td>1</td>\n",
       "      <td>3</td>\n",
       "      <td>12691.0</td>\n",
       "      <td>777</td>\n",
       "      <td>11914.0</td>\n",
       "      <td>1.335</td>\n",
       "      <td>1144</td>\n",
       "      <td>42</td>\n",
       "      <td>1.625</td>\n",
       "      <td>0.061</td>\n",
       "    </tr>\n",
       "    <tr>\n",
       "      <th>1</th>\n",
       "      <td>818770008</td>\n",
       "      <td>Existing Customer</td>\n",
       "      <td>49</td>\n",
       "      <td>F</td>\n",
       "      <td>5</td>\n",
       "      <td>Graduate</td>\n",
       "      <td>Single</td>\n",
       "      <td>Less than $40K</td>\n",
       "      <td>Blue</td>\n",
       "      <td>44</td>\n",
       "      <td>...</td>\n",
       "      <td>1</td>\n",
       "      <td>2</td>\n",
       "      <td>8256.0</td>\n",
       "      <td>864</td>\n",
       "      <td>7392.0</td>\n",
       "      <td>1.541</td>\n",
       "      <td>1291</td>\n",
       "      <td>33</td>\n",
       "      <td>3.714</td>\n",
       "      <td>0.105</td>\n",
       "    </tr>\n",
       "    <tr>\n",
       "      <th>2</th>\n",
       "      <td>713982108</td>\n",
       "      <td>Existing Customer</td>\n",
       "      <td>51</td>\n",
       "      <td>M</td>\n",
       "      <td>3</td>\n",
       "      <td>Graduate</td>\n",
       "      <td>Married</td>\n",
       "      <td>$80K - $120K</td>\n",
       "      <td>Blue</td>\n",
       "      <td>36</td>\n",
       "      <td>...</td>\n",
       "      <td>1</td>\n",
       "      <td>0</td>\n",
       "      <td>3418.0</td>\n",
       "      <td>0</td>\n",
       "      <td>3418.0</td>\n",
       "      <td>2.594</td>\n",
       "      <td>1887</td>\n",
       "      <td>20</td>\n",
       "      <td>2.333</td>\n",
       "      <td>0.000</td>\n",
       "    </tr>\n",
       "    <tr>\n",
       "      <th>4</th>\n",
       "      <td>709106358</td>\n",
       "      <td>Existing Customer</td>\n",
       "      <td>40</td>\n",
       "      <td>M</td>\n",
       "      <td>3</td>\n",
       "      <td>Uneducated</td>\n",
       "      <td>Married</td>\n",
       "      <td>$60K - $80K</td>\n",
       "      <td>Blue</td>\n",
       "      <td>21</td>\n",
       "      <td>...</td>\n",
       "      <td>1</td>\n",
       "      <td>0</td>\n",
       "      <td>4716.0</td>\n",
       "      <td>0</td>\n",
       "      <td>4716.0</td>\n",
       "      <td>2.175</td>\n",
       "      <td>816</td>\n",
       "      <td>28</td>\n",
       "      <td>2.500</td>\n",
       "      <td>0.000</td>\n",
       "    </tr>\n",
       "    <tr>\n",
       "      <th>5</th>\n",
       "      <td>713061558</td>\n",
       "      <td>Existing Customer</td>\n",
       "      <td>44</td>\n",
       "      <td>M</td>\n",
       "      <td>2</td>\n",
       "      <td>Graduate</td>\n",
       "      <td>Married</td>\n",
       "      <td>$40K - $60K</td>\n",
       "      <td>Blue</td>\n",
       "      <td>36</td>\n",
       "      <td>...</td>\n",
       "      <td>1</td>\n",
       "      <td>2</td>\n",
       "      <td>4010.0</td>\n",
       "      <td>1247</td>\n",
       "      <td>2763.0</td>\n",
       "      <td>1.376</td>\n",
       "      <td>1088</td>\n",
       "      <td>24</td>\n",
       "      <td>0.846</td>\n",
       "      <td>0.311</td>\n",
       "    </tr>\n",
       "    <tr>\n",
       "      <th>...</th>\n",
       "      <td>...</td>\n",
       "      <td>...</td>\n",
       "      <td>...</td>\n",
       "      <td>...</td>\n",
       "      <td>...</td>\n",
       "      <td>...</td>\n",
       "      <td>...</td>\n",
       "      <td>...</td>\n",
       "      <td>...</td>\n",
       "      <td>...</td>\n",
       "      <td>...</td>\n",
       "      <td>...</td>\n",
       "      <td>...</td>\n",
       "      <td>...</td>\n",
       "      <td>...</td>\n",
       "      <td>...</td>\n",
       "      <td>...</td>\n",
       "      <td>...</td>\n",
       "      <td>...</td>\n",
       "      <td>...</td>\n",
       "      <td>...</td>\n",
       "    </tr>\n",
       "    <tr>\n",
       "      <th>10120</th>\n",
       "      <td>710841183</td>\n",
       "      <td>Existing Customer</td>\n",
       "      <td>54</td>\n",
       "      <td>M</td>\n",
       "      <td>1</td>\n",
       "      <td>High School</td>\n",
       "      <td>Single</td>\n",
       "      <td>$60K - $80K</td>\n",
       "      <td>Blue</td>\n",
       "      <td>34</td>\n",
       "      <td>...</td>\n",
       "      <td>2</td>\n",
       "      <td>0</td>\n",
       "      <td>13940.0</td>\n",
       "      <td>2109</td>\n",
       "      <td>11831.0</td>\n",
       "      <td>0.660</td>\n",
       "      <td>15577</td>\n",
       "      <td>114</td>\n",
       "      <td>0.754</td>\n",
       "      <td>0.151</td>\n",
       "    </tr>\n",
       "    <tr>\n",
       "      <th>10121</th>\n",
       "      <td>713899383</td>\n",
       "      <td>Existing Customer</td>\n",
       "      <td>56</td>\n",
       "      <td>F</td>\n",
       "      <td>1</td>\n",
       "      <td>Graduate</td>\n",
       "      <td>Single</td>\n",
       "      <td>Less than $40K</td>\n",
       "      <td>Blue</td>\n",
       "      <td>50</td>\n",
       "      <td>...</td>\n",
       "      <td>1</td>\n",
       "      <td>4</td>\n",
       "      <td>3688.0</td>\n",
       "      <td>606</td>\n",
       "      <td>3082.0</td>\n",
       "      <td>0.570</td>\n",
       "      <td>14596</td>\n",
       "      <td>120</td>\n",
       "      <td>0.791</td>\n",
       "      <td>0.164</td>\n",
       "    </tr>\n",
       "    <tr>\n",
       "      <th>10122</th>\n",
       "      <td>772366833</td>\n",
       "      <td>Existing Customer</td>\n",
       "      <td>50</td>\n",
       "      <td>M</td>\n",
       "      <td>2</td>\n",
       "      <td>Graduate</td>\n",
       "      <td>Single</td>\n",
       "      <td>$40K - $60K</td>\n",
       "      <td>Blue</td>\n",
       "      <td>40</td>\n",
       "      <td>...</td>\n",
       "      <td>2</td>\n",
       "      <td>3</td>\n",
       "      <td>4003.0</td>\n",
       "      <td>1851</td>\n",
       "      <td>2152.0</td>\n",
       "      <td>0.703</td>\n",
       "      <td>15476</td>\n",
       "      <td>117</td>\n",
       "      <td>0.857</td>\n",
       "      <td>0.462</td>\n",
       "    </tr>\n",
       "    <tr>\n",
       "      <th>10124</th>\n",
       "      <td>716506083</td>\n",
       "      <td>Attrited Customer</td>\n",
       "      <td>44</td>\n",
       "      <td>F</td>\n",
       "      <td>1</td>\n",
       "      <td>High School</td>\n",
       "      <td>Married</td>\n",
       "      <td>Less than $40K</td>\n",
       "      <td>Blue</td>\n",
       "      <td>36</td>\n",
       "      <td>...</td>\n",
       "      <td>3</td>\n",
       "      <td>4</td>\n",
       "      <td>5409.0</td>\n",
       "      <td>0</td>\n",
       "      <td>5409.0</td>\n",
       "      <td>0.819</td>\n",
       "      <td>10291</td>\n",
       "      <td>60</td>\n",
       "      <td>0.818</td>\n",
       "      <td>0.000</td>\n",
       "    </tr>\n",
       "    <tr>\n",
       "      <th>10126</th>\n",
       "      <td>714337233</td>\n",
       "      <td>Attrited Customer</td>\n",
       "      <td>43</td>\n",
       "      <td>F</td>\n",
       "      <td>2</td>\n",
       "      <td>Graduate</td>\n",
       "      <td>Married</td>\n",
       "      <td>Less than $40K</td>\n",
       "      <td>Silver</td>\n",
       "      <td>25</td>\n",
       "      <td>...</td>\n",
       "      <td>2</td>\n",
       "      <td>4</td>\n",
       "      <td>10388.0</td>\n",
       "      <td>1961</td>\n",
       "      <td>8427.0</td>\n",
       "      <td>0.703</td>\n",
       "      <td>10294</td>\n",
       "      <td>61</td>\n",
       "      <td>0.649</td>\n",
       "      <td>0.189</td>\n",
       "    </tr>\n",
       "  </tbody>\n",
       "</table>\n",
       "<p>7081 rows × 21 columns</p>\n",
       "</div>"
      ],
      "text/plain": [
       "       CLIENTNUM     Attrition_Flag  Customer_Age Gender  Dependent_count  \\\n",
       "0      768805383  Existing Customer            45      M                3   \n",
       "1      818770008  Existing Customer            49      F                5   \n",
       "2      713982108  Existing Customer            51      M                3   \n",
       "4      709106358  Existing Customer            40      M                3   \n",
       "5      713061558  Existing Customer            44      M                2   \n",
       "...          ...                ...           ...    ...              ...   \n",
       "10120  710841183  Existing Customer            54      M                1   \n",
       "10121  713899383  Existing Customer            56      F                1   \n",
       "10122  772366833  Existing Customer            50      M                2   \n",
       "10124  716506083  Attrited Customer            44      F                1   \n",
       "10126  714337233  Attrited Customer            43      F                2   \n",
       "\n",
       "      Education_Level Marital_Status Income_Category Card_Category  \\\n",
       "0         High School        Married     $60K - $80K          Blue   \n",
       "1            Graduate         Single  Less than $40K          Blue   \n",
       "2            Graduate        Married    $80K - $120K          Blue   \n",
       "4          Uneducated        Married     $60K - $80K          Blue   \n",
       "5            Graduate        Married     $40K - $60K          Blue   \n",
       "...               ...            ...             ...           ...   \n",
       "10120     High School         Single     $60K - $80K          Blue   \n",
       "10121        Graduate         Single  Less than $40K          Blue   \n",
       "10122        Graduate         Single     $40K - $60K          Blue   \n",
       "10124     High School        Married  Less than $40K          Blue   \n",
       "10126        Graduate        Married  Less than $40K        Silver   \n",
       "\n",
       "       Months_on_book  ...  Months_Inactive_12_mon  Contacts_Count_12_mon  \\\n",
       "0                  39  ...                       1                      3   \n",
       "1                  44  ...                       1                      2   \n",
       "2                  36  ...                       1                      0   \n",
       "4                  21  ...                       1                      0   \n",
       "5                  36  ...                       1                      2   \n",
       "...               ...  ...                     ...                    ...   \n",
       "10120              34  ...                       2                      0   \n",
       "10121              50  ...                       1                      4   \n",
       "10122              40  ...                       2                      3   \n",
       "10124              36  ...                       3                      4   \n",
       "10126              25  ...                       2                      4   \n",
       "\n",
       "       Credit_Limit  Total_Revolving_Bal  Avg_Open_To_Buy  \\\n",
       "0           12691.0                  777          11914.0   \n",
       "1            8256.0                  864           7392.0   \n",
       "2            3418.0                    0           3418.0   \n",
       "4            4716.0                    0           4716.0   \n",
       "5            4010.0                 1247           2763.0   \n",
       "...             ...                  ...              ...   \n",
       "10120       13940.0                 2109          11831.0   \n",
       "10121        3688.0                  606           3082.0   \n",
       "10122        4003.0                 1851           2152.0   \n",
       "10124        5409.0                    0           5409.0   \n",
       "10126       10388.0                 1961           8427.0   \n",
       "\n",
       "       Total_Amt_Chng_Q4_Q1  Total_Trans_Amt  Total_Trans_Ct  \\\n",
       "0                     1.335             1144              42   \n",
       "1                     1.541             1291              33   \n",
       "2                     2.594             1887              20   \n",
       "4                     2.175              816              28   \n",
       "5                     1.376             1088              24   \n",
       "...                     ...              ...             ...   \n",
       "10120                 0.660            15577             114   \n",
       "10121                 0.570            14596             120   \n",
       "10122                 0.703            15476             117   \n",
       "10124                 0.819            10291              60   \n",
       "10126                 0.703            10294              61   \n",
       "\n",
       "       Total_Ct_Chng_Q4_Q1  Avg_Utilization_Ratio  \n",
       "0                    1.625                  0.061  \n",
       "1                    3.714                  0.105  \n",
       "2                    2.333                  0.000  \n",
       "4                    2.500                  0.000  \n",
       "5                    0.846                  0.311  \n",
       "...                    ...                    ...  \n",
       "10120                0.754                  0.151  \n",
       "10121                0.791                  0.164  \n",
       "10122                0.857                  0.462  \n",
       "10124                0.818                  0.000  \n",
       "10126                0.649                  0.189  \n",
       "\n",
       "[7081 rows x 21 columns]"
      ]
     },
     "execution_count": 1,
     "metadata": {},
     "output_type": "execute_result"
    }
   ],
   "source": [
    "#helping credit card companies determine \n",
    "#the most common warning signs for \n",
    "#people who are about to churn\n",
    "\n",
    "#16.07% of the customers in the dataset churned\n",
    "\n",
    "#18 features \n",
    "#analyze the features, determine which might be informative\n",
    "\n",
    "from pandas import Series, DataFrame\n",
    "import pandas as pd\n",
    "%pylab inline\n",
    "import statsmodels.api as sm\n",
    "from patsy import dmatrices\n",
    "import matplotlib.pyplot as plt\n",
    "\n",
    "df = pd.read_csv('BankChurners.csv')\n",
    "df.drop_duplicates()\n",
    "df.dropna()\n",
    "#there are no duplicte rows or NaN values\n",
    "\n",
    "##Removing unknown values in columns\n",
    "indexNames = df[(df['Education_Level'] == 'Unknown') | (df['Marital_Status'] == 'Unknown') | (df['Income_Category'] == 'Unknown')].index\n",
    "df.drop(indexNames , inplace=True)\n",
    "\n",
    "#removing the last two columns (naive bayes), suggested by dataset owner\n",
    "\n",
    "del df['Naive_Bayes_Classifier_Attrition_Flag_Card_Category_Contacts_Count_12_mon_Dependent_count_Education_Level_Months_Inactive_12_mon_1']\n",
    "del df['Naive_Bayes_Classifier_Attrition_Flag_Card_Category_Contacts_Count_12_mon_Dependent_count_Education_Level_Months_Inactive_12_mon_2']\n",
    "df"
   ]
  },
  {
   "cell_type": "code",
   "execution_count": 2,
   "id": "f345ccaa",
   "metadata": {},
   "outputs": [
    {
     "data": {
      "text/plain": [
       "Text(0, 0.5, 'Customers')"
      ]
     },
     "execution_count": 2,
     "metadata": {},
     "output_type": "execute_result"
    },
    {
     "data": {
      "image/png": "[encoded data removed]",
      "text/plain": [
       "<Figure size 432x288 with 1 Axes>"
      ]
     },
     "metadata": {
      "needs_background": "light"
     },
     "output_type": "display_data"
    }
   ],
   "source": [
    "#histogram of age\n",
    "\n",
    "df['Customer_Age'].hist()\n",
    "xlabel('Age')\n",
    "ylabel('Customers')"
   ]
  },
  {
   "cell_type": "code",
   "execution_count": 3,
   "id": "fc5edc94",
   "metadata": {},
   "outputs": [
    {
     "data": {
      "text/plain": [
       "Text(0, 0.5, 'Customers')"
      ]
     },
     "execution_count": 3,
     "metadata": {},
     "output_type": "execute_result"
    },
    {
     "data": {
      "image/png": "[encoded data removed]",
      "text/plain": [
       "<Figure size 432x288 with 1 Axes>"
      ]
     },
     "metadata": {
      "needs_background": "light"
     },
     "output_type": "display_data"
    }
   ],
   "source": [
    "#creating a bar plot of attrition customers and existing customers\n",
    "\n",
    "df['Attrition_Flag'].value_counts().plot(kind='bar', label='index', color=['#67e689', '#ed535b'])\n",
    "ylabel('Customers')\n",
    "\n",
    "#Existing customers: 5968\n",
    "#Attrited Customers: 1113\n",
    "\n",
    "#this might make training our model a bit more complicated"
   ]
  },
  {
   "cell_type": "code",
   "execution_count": 4,
   "id": "2c6b43e9",
   "metadata": {},
   "outputs": [
    {
     "data": {
      "text/plain": [
       "Text(0, 0.5, 'Customers')"
      ]
     },
     "execution_count": 4,
     "metadata": {},
     "output_type": "execute_result"
    },
    {
     "data": {
      "image/png": "[encoded data removed]",
      "text/plain": [
       "<Figure size 432x288 with 1 Axes>"
      ]
     },
     "metadata": {
      "needs_background": "light"
     },
     "output_type": "display_data"
    }
   ],
   "source": [
    "#exploration, males and females bar plot and value counts\n",
    "df['Gender'].value_counts().plot(kind='bar', label='index', color=['#84e6e8','#26c4c7'])\n",
    "\n",
    "df['Gender'].value_counts()\n",
    "ylabel('Customers')"
   ]
  },
  {
   "cell_type": "code",
   "execution_count": 5,
   "id": "6b323b9d",
   "metadata": {
    "scrolled": true
   },
   "outputs": [
    {
     "name": "stdout",
     "output_type": "stream",
     "text": [
      "3    1929\n",
      "2    1880\n",
      "1    1274\n",
      "4    1077\n",
      "0     636\n",
      "5     285\n",
      "Name: Dependent_count, dtype: int64\n",
      "Mean:  2.33780539471826\n"
     ]
    },
    {
     "data": {
      "image/png": "[encoded data removed]",
      "text/plain": [
       "<Figure size 432x288 with 1 Axes>"
      ]
     },
     "metadata": {
      "needs_background": "light"
     },
     "output_type": "display_data"
    }
   ],
   "source": [
    "#exploration of dependant counts \n",
    "print(df['Dependent_count'].value_counts())\n",
    "\n",
    "df['Dependent_count'].value_counts().plot(kind='bar', color = ['#f05630', '#f07330', '#f08d30','#f0ae1f','#f0cd30','#ffe863'])\n",
    "ylabel('Customers')\n",
    "\n",
    "print('Mean: ', df['Dependent_count'].mean())\n",
    "#most people who have credit cards have some number of dependants\n",
    "#Most people have an established family "
   ]
  },
  {
   "cell_type": "code",
   "execution_count": 6,
   "id": "1cd29c5f",
   "metadata": {},
   "outputs": [
    {
     "name": "stdout",
     "output_type": "stream",
     "text": [
      "Graduate         2591\n",
      "High School      1653\n",
      "Uneducated       1204\n",
      "College           844\n",
      "Post-Graduate     431\n",
      "Doctorate         358\n",
      "Name: Education_Level, dtype: int64\n"
     ]
    },
    {
     "data": {
      "text/plain": [
       "<AxesSubplot:ylabel='Education_Level'>"
      ]
     },
     "execution_count": 6,
     "metadata": {},
     "output_type": "execute_result"
    },
    {
     "data": {
      "image/png": "[encoded data removed]",
      "text/plain": [
       "<Figure size 432x288 with 1 Axes>"
      ]
     },
     "metadata": {},
     "output_type": "display_data"
    }
   ],
   "source": [
    "#exploratory analysis of education level\n",
    "#most have some education\n",
    "#it falls off a bit at college, post-grad and doctorate\n",
    "\n",
    "print(df['Education_Level'].value_counts())\n",
    "df['Education_Level'].value_counts().plot(kind='pie')\n"
   ]
  },
  {
   "cell_type": "code",
   "execution_count": 7,
   "id": "777fe121",
   "metadata": {},
   "outputs": [
    {
     "name": "stdout",
     "output_type": "stream",
     "text": [
      "Married     3564\n",
      "Single      2948\n",
      "Divorced     569\n",
      "Name: Marital_Status, dtype: int64\n"
     ]
    },
    {
     "data": {
      "text/plain": [
       "<AxesSubplot:ylabel='Marital_Status'>"
      ]
     },
     "execution_count": 7,
     "metadata": {},
     "output_type": "execute_result"
    },
    {
     "data": {
      "image/png": "[encoded data removed]",
      "text/plain": [
       "<Figure size 432x288 with 1 Axes>"
      ]
     },
     "metadata": {},
     "output_type": "display_data"
    }
   ],
   "source": [
    "#exploratory analyis of marital status\n",
    "print(df['Marital_Status'].value_counts())\n",
    "\n",
    "df['Marital_Status'].value_counts().plot(kind='pie')\n",
    "\n",
    "#most are married or single, a few divorced "
   ]
  },
  {
   "cell_type": "code",
   "execution_count": 8,
   "id": "2c82f722",
   "metadata": {},
   "outputs": [
    {
     "name": "stdout",
     "output_type": "stream",
     "text": [
      "Less than $40K    2792\n",
      "$40K - $60K       1412\n",
      "$80K - $120K      1202\n",
      "$60K - $80K       1103\n",
      "$120K +            572\n",
      "Name: Income_Category, dtype: int64\n"
     ]
    },
    {
     "data": {
      "text/plain": [
       "<AxesSubplot:>"
      ]
     },
     "execution_count": 8,
     "metadata": {},
     "output_type": "execute_result"
    },
    {
     "data": {
      "image/png": "[encoded data removed]",
      "text/plain": [
       "<Figure size 432x288 with 1 Axes>"
      ]
     },
     "metadata": {
      "needs_background": "light"
     },
     "output_type": "display_data"
    }
   ],
   "source": [
    "#income category exploratory analysis\n",
    "print(df['Income_Category'].value_counts())\n",
    "\n",
    "df['Income_Category'].value_counts().plot(kind='bar', label='index', color=['#588228','#689e29','#73b329','#7bc425','#83d620','#89e817'])\n",
    "\n",
    "#makes sense, less people have more money"
   ]
  },
  {
   "cell_type": "code",
   "execution_count": 9,
   "id": "deb35dea",
   "metadata": {},
   "outputs": [
    {
     "name": "stdout",
     "output_type": "stream",
     "text": [
      "1438.3     375\n",
      "34516.0    372\n",
      "15987.0     14\n",
      "9959.0      13\n",
      "3735.0      10\n",
      "2490.0      10\n",
      "23981.0      8\n",
      "6224.0       8\n",
      "2001.0       7\n",
      "2802.0       6\n",
      "Name: Credit_Limit, dtype: int64\n"
     ]
    },
    {
     "data": {
      "text/plain": [
       "<AxesSubplot:>"
      ]
     },
     "execution_count": 9,
     "metadata": {},
     "output_type": "execute_result"
    },
    {
     "data": {
      "image/png": "[encoded data removed]",
      "text/plain": [
       "<Figure size 432x288 with 1 Axes>"
      ]
     },
     "metadata": {
      "needs_background": "light"
     },
     "output_type": "display_data"
    }
   ],
   "source": [
    "#credit limit value counts, top 10 most common limits\n",
    "print(df['Credit_Limit'].value_counts().iloc[:10])\n",
    "\n",
    "df['Credit_Limit'].value_counts().iloc[:10].plot(kind='bar', label='index', color=['#588228','#689e29','#73b329','#7bc425','#83d620','#89e817'])\n",
    "\n",
    "\n",
    "#there are two limits that are overwhelmingly common (34516 and 1438), skewed to right side"
   ]
  },
  {
   "cell_type": "code",
   "execution_count": 10,
   "id": "ca43cde3",
   "metadata": {},
   "outputs": [
    {
     "data": {
      "image/png": "[encoded data removed]",
      "text/plain": [
       "<Figure size 432x288 with 1 Axes>"
      ]
     },
     "metadata": {
      "needs_background": "light"
     },
     "output_type": "display_data"
    }
   ],
   "source": [
    "#scatterplot of credit limit against card type\n",
    "plot(df['Card_Category'], df['Credit_Limit'], marker='o', color='green', linestyle='None')\n",
    "xlabel('Card Type')\n",
    "ylabel('Credit Limit')\n",
    "title('Card Type and Credit Limit')\n",
    "show()\n",
    "\n",
    "#vast majority of people have blue cards, some have silver and very few have gold or platinum\n",
    "#limit looks like it goes up a little with each sucessive card\n",
    "#why is silver in front of gold\n"
   ]
  },
  {
   "cell_type": "code",
   "execution_count": 11,
   "id": "09852ea3",
   "metadata": {},
   "outputs": [
    {
     "data": {
      "text/plain": [
       "<AxesSubplot:>"
      ]
     },
     "execution_count": 11,
     "metadata": {},
     "output_type": "execute_result"
    },
    {
     "data": {
      "image/png": "[encoded data removed]",
      "text/plain": [
       "<Figure size 432x288 with 1 Axes>"
      ]
     },
     "metadata": {
      "needs_background": "light"
     },
     "output_type": "display_data"
    }
   ],
   "source": [
    "#exploratory analysis of months on book\n",
    "\n",
    "df['Months_on_book'].value_counts().loc[:20].plot(kind='bar')\n",
    "\n",
    "#MOST are 36 months\n",
    "#goes from having to do something to get rid of card\n",
    "#to having to do something to keep card"
   ]
  },
  {
   "cell_type": "code",
   "execution_count": 12,
   "id": "dfaacb4a",
   "metadata": {},
   "outputs": [
    {
     "data": {
      "image/png": "[encoded data removed]",
      "text/plain": [
       "<Figure size 432x288 with 1 Axes>"
      ]
     },
     "metadata": {
      "needs_background": "light"
     },
     "output_type": "display_data"
    }
   ],
   "source": [
    "#scatterplot months with company versus book liimit\n",
    "plot(df['Months_on_book'], df['Credit_Limit'], marker='o', color='green', linestyle='None')\n",
    "xlabel('Months on book')\n",
    "ylabel('Credit Limit')\n",
    "title('Months on book versus limit')\n",
    "show()\n"
   ]
  },
  {
   "cell_type": "code",
   "execution_count": 13,
   "id": "cfa04f73",
   "metadata": {},
   "outputs": [
    {
     "data": {
      "text/plain": [
       "<AxesSubplot:>"
      ]
     },
     "execution_count": 13,
     "metadata": {},
     "output_type": "execute_result"
    },
    {
     "data": {
      "image/png": "[encoded data removed]",
      "text/plain": [
       "<Figure size 432x288 with 1 Axes>"
      ]
     },
     "metadata": {
      "needs_background": "light"
     },
     "output_type": "display_data"
    }
   ],
   "source": [
    "mask = df['Attrition_Flag']==('Attrited Customer')\n",
    "attrited_df = df[mask]\n",
    "\n",
    "attrited_df['Income_Category'].value_counts().plot(kind='bar', label='index', color=['#588228','#689e29','#73b329','#7bc425','#83d620','#89e817'])\n"
   ]
  },
  {
   "cell_type": "code",
   "execution_count": 14,
   "id": "7606a927",
   "metadata": {
    "scrolled": true
   },
   "outputs": [
    {
     "data": {
      "text/plain": [
       "<AxesSubplot:>"
      ]
     },
     "execution_count": 14,
     "metadata": {},
     "output_type": "execute_result"
    },
    {
     "data": {
      "image/png": "[encoded data removed]",
      "text/plain": [
       "<Figure size 432x288 with 1 Axes>"
      ]
     },
     "metadata": {
      "needs_background": "light"
     },
     "output_type": "display_data"
    }
   ],
   "source": [
    "attrited_df['Months_on_book'].value_counts().plot(kind='bar')"
   ]
  },
  {
   "cell_type": "code",
   "execution_count": 15,
   "id": "90d16012",
   "metadata": {
    "scrolled": false
   },
   "outputs": [
    {
     "data": {
      "image/png": "[encoded data removed]",
      "text/plain": [
       "<Figure size 432x288 with 1 Axes>"
      ]
     },
     "metadata": {
      "needs_background": "light"
     },
     "output_type": "display_data"
    }
   ],
   "source": [
    "plot(attrited_df['Months_on_book'], attrited_df['Credit_Limit'], marker='o', color='green', linestyle='None')\n",
    "xlabel('Months on book')\n",
    "ylabel('Credit Limit')\n",
    "title('Months on book versus limit')\n",
    "show()"
   ]
  },
  {
   "cell_type": "code",
   "execution_count": 16,
   "id": "6001ed57",
   "metadata": {},
   "outputs": [],
   "source": [
    "##new column to add numerical value if existing or attrited customer\n",
    "df[\"Customer_Status\"] = np.where(df[\"Attrition_Flag\"] == \"Attrited Customer\",1,0)"
   ]
  },
  {
   "cell_type": "code",
   "execution_count": 17,
   "id": "666bd820",
   "metadata": {},
   "outputs": [
    {
     "data": {
      "text/plain": [
       "<AxesSubplot:xlabel='Attrition_Flag'>"
      ]
     },
     "execution_count": 17,
     "metadata": {},
     "output_type": "execute_result"
    },
    {
     "data": {
      "image/png": "[encoded data removed]",
      "text/plain": [
       "<Figure size 432x288 with 1 Axes>"
      ]
     },
     "metadata": {
      "needs_background": "light"
     },
     "output_type": "display_data"
    }
   ],
   "source": [
    "df_ed = pd.pivot_table(df, index = 'Education_Level', columns = 'Attrition_Flag', values = 'Customer_Status', aggfunc = 'count')\n",
    "df_ed['Attrition_rate'] = (df_ed['Attrited Customer']/(df_ed['Attrited Customer'] + df_ed['Existing Customer']))*100\n",
    "df_ed['Existing_rate'] = (df_ed['Existing Customer']/(df_ed['Attrited Customer'] + df_ed['Existing Customer']))*100\n",
    "\n",
    "df_ed3= df_ed[['Attrition_rate','Existing_rate']]\n",
    "df_ed3.T.plot(kind='bar')"
   ]
  },
  {
   "cell_type": "code",
   "execution_count": 18,
   "id": "4c4d33a7",
   "metadata": {},
   "outputs": [
    {
     "data": {
      "text/plain": [
       "<AxesSubplot:xlabel='Attrition_Flag'>"
      ]
     },
     "execution_count": 18,
     "metadata": {},
     "output_type": "execute_result"
    },
    {
     "data": {
      "image/png": "[encoded data removed]",
      "text/plain": [
       "<Figure size 432x288 with 1 Axes>"
      ]
     },
     "metadata": {
      "needs_background": "light"
     },
     "output_type": "display_data"
    }
   ],
   "source": [
    "df_ed = pd.pivot_table(df, index = 'Total_Relationship_Count', columns = 'Attrition_Flag', values = 'Customer_Status', aggfunc = 'count')\n",
    "df_ed['Attrition_rate'] = (df_ed['Attrited Customer']/(df_ed['Attrited Customer'] + df_ed['Existing Customer']))*100\n",
    "df_ed['Existing_rate'] = (df_ed['Existing Customer']/(df_ed['Attrited Customer'] + df_ed['Existing Customer']))*100\n",
    "\n",
    "df_ed3= df_ed[['Attrition_rate','Existing_rate']]\n",
    "df_ed3.T.plot(kind='bar')"
   ]
  },
  {
   "cell_type": "code",
   "execution_count": 19,
   "id": "0c7ec9e4",
   "metadata": {
    "scrolled": true
   },
   "outputs": [
    {
     "data": {
      "text/plain": [
       "<AxesSubplot:xlabel='Attrition_Flag'>"
      ]
     },
     "execution_count": 19,
     "metadata": {},
     "output_type": "execute_result"
    },
    {
     "data": {
      "image/png": "[encoded data removed]",
      "text/plain": [
       "<Figure size 432x288 with 1 Axes>"
      ]
     },
     "metadata": {
      "needs_background": "light"
     },
     "output_type": "display_data"
    }
   ],
   "source": [
    "##Customer status based on gender\n",
    "df_ed = pd.pivot_table(df, index = 'Gender', columns = 'Attrition_Flag', values = 'Customer_Status', aggfunc = 'count')\n",
    "#df_ed_2 = pd.pivot_table(df, index = 'Attrition_Flag', columns = 'Gender', values = 'Customer Status', aggfunc = 'count')\n",
    "df_ed['Attrition_rate'] = (df_ed['Attrited Customer']/(df_ed['Attrited Customer'] + df_ed['Existing Customer']))*100\n",
    "df_ed['Existing_rate'] = (df_ed['Existing Customer']/(df_ed['Attrited Customer'] + df_ed['Existing Customer']))*100\n",
    "df_ed3= df_ed[['Attrition_rate','Existing_rate']]\n",
    "\n",
    "df_ed3.T.plot(kind='bar')"
   ]
  },
  {
   "cell_type": "code",
   "execution_count": 20,
   "id": "ca70eb8e",
   "metadata": {
    "scrolled": true
   },
   "outputs": [
    {
     "data": {
      "text/plain": [
       "<AxesSubplot:xlabel='Attrition_Flag'>"
      ]
     },
     "execution_count": 20,
     "metadata": {},
     "output_type": "execute_result"
    },
    {
     "data": {
      "image/png": "[encoded data removed]",
      "text/plain": [
       "<Figure size 432x288 with 1 Axes>"
      ]
     },
     "metadata": {
      "needs_background": "light"
     },
     "output_type": "display_data"
    }
   ],
   "source": [
    "#Customer status based on income category\n",
    "df_ed = pd.pivot_table(df, index = 'Income_Category', columns = 'Attrition_Flag', values = 'Customer_Status', aggfunc = 'count')\n",
    "df_ed['Attrition_rate'] = (df_ed['Attrited Customer']/(df_ed['Attrited Customer'] + df_ed['Existing Customer']))*100\n",
    "df_ed['Existing_rate'] = (df_ed['Existing Customer']/(df_ed['Attrited Customer'] + df_ed['Existing Customer']))*100\n",
    "df_ed3= df_ed[['Attrition_rate','Existing_rate']]\n",
    "\n",
    "df_ed3.T.plot(kind='bar')"
   ]
  },
  {
   "cell_type": "code",
   "execution_count": 21,
   "id": "7b0fdb30",
   "metadata": {
    "scrolled": true
   },
   "outputs": [
    {
     "data": {
      "text/plain": [
       "<AxesSubplot:xlabel='Attrition_Flag'>"
      ]
     },
     "execution_count": 21,
     "metadata": {},
     "output_type": "execute_result"
    },
    {
     "data": {
      "image/png": "[encoded data removed]",
      "text/plain": [
       "<Figure size 432x288 with 1 Axes>"
      ]
     },
     "metadata": {
      "needs_background": "light"
     },
     "output_type": "display_data"
    }
   ],
   "source": [
    "#Customer Status based on card category\n",
    "df_ed = pd.pivot_table(df, index = 'Card_Category', columns = 'Attrition_Flag', values = 'Customer_Status', aggfunc = 'count')\n",
    "df_ed['Attrition_rate'] = (df_ed['Attrited Customer']/(df_ed['Attrited Customer'] + df_ed['Existing Customer']))*100\n",
    "df_ed['Existing_rate'] = (df_ed['Existing Customer']/(df_ed['Attrited Customer'] + df_ed['Existing Customer']))*100\n",
    "df_ed3= df_ed[['Attrition_rate','Existing_rate']]\n",
    "\n",
    "df_ed3.T.plot(kind='bar')"
   ]
  },
  {
   "cell_type": "code",
   "execution_count": 22,
   "id": "0f4d9699",
   "metadata": {},
   "outputs": [
    {
     "data": {
      "text/plain": [
       "<AxesSubplot:xlabel='Attrition_Flag'>"
      ]
     },
     "execution_count": 22,
     "metadata": {},
     "output_type": "execute_result"
    },
    {
     "data": {
      "image/png": "[encoded data removed]",
      "text/plain": [
       "<Figure size 432x288 with 1 Axes>"
      ]
     },
     "metadata": {
      "needs_background": "light"
     },
     "output_type": "display_data"
    }
   ],
   "source": [
    "#Customer status based on marital status\n",
    "df_ed = pd.pivot_table(df, index = 'Marital_Status', columns = 'Attrition_Flag', values = 'Customer_Status', aggfunc = 'count')\n",
    "df_ed['Attrition_rate'] = (df_ed['Attrited Customer']/(df_ed['Attrited Customer'] + df_ed['Existing Customer']))*100\n",
    "df_ed['Existing_rate'] = (df_ed['Existing Customer']/(df_ed['Attrited Customer'] + df_ed['Existing Customer']))*100\n",
    "df_ed3= df_ed[['Attrition_rate','Existing_rate']]\n",
    "\n",
    "df_ed3.T.plot(kind='bar')"
   ]
  },
  {
   "cell_type": "code",
   "execution_count": 23,
   "id": "e1801313",
   "metadata": {},
   "outputs": [],
   "source": [
    "df_imp_num = df[['Customer_Status','Months_on_book','Contacts_Count_12_mon','Credit_Limit','Total_Revolving_Bal','Total_Trans_Amt','Avg_Utilization_Ratio']]"
   ]
  },
  {
   "cell_type": "code",
   "execution_count": 24,
   "id": "34511513",
   "metadata": {},
   "outputs": [
    {
     "data": {
      "image/png": "[encoded data removed]",
      "text/plain": [
       "<Figure size 432x288 with 2 Axes>"
      ]
     },
     "metadata": {
      "needs_background": "light"
     },
     "output_type": "display_data"
    }
   ],
   "source": [
    "#Correlation matrix including only numerical variables\n",
    "import seaborn as sn\n",
    "corrMatrix = df_imp_num.corr()\n",
    "sn.heatmap(corrMatrix,annot=True)\n",
    "plt.show()"
   ]
  },
  {
   "cell_type": "code",
   "execution_count": 25,
   "id": "a5c3f839",
   "metadata": {},
   "outputs": [
    {
     "data": {
      "image/png": "[encoded data removed]",
      "text/plain": [
       "<Figure size 432x288 with 2 Axes>"
      ]
     },
     "metadata": {
      "needs_background": "light"
     },
     "output_type": "display_data"
    }
   ],
   "source": [
    "corrMatrix = df.corr()\n",
    "sn.heatmap(corrMatrix,annot=True)\n",
    "plt.show()"
   ]
  },
  {
   "cell_type": "code",
   "execution_count": 26,
   "id": "ee87b7a6",
   "metadata": {},
   "outputs": [],
   "source": [
    "#more exploratory analysis (heavily based on the above feature importances)"
   ]
  },
  {
   "cell_type": "code",
   "execution_count": 27,
   "id": "89050782",
   "metadata": {},
   "outputs": [
    {
     "data": {
      "text/html": [
       "<div>\n",
       "<style scoped>\n",
       "    .dataframe tbody tr th:only-of-type {\n",
       "        vertical-align: middle;\n",
       "    }\n",
       "\n",
       "    .dataframe tbody tr th {\n",
       "        vertical-align: top;\n",
       "    }\n",
       "\n",
       "    .dataframe thead tr th {\n",
       "        text-align: left;\n",
       "    }\n",
       "\n",
       "    .dataframe thead tr:last-of-type th {\n",
       "        text-align: right;\n",
       "    }\n",
       "</style>\n",
       "<table border=\"1\" class=\"dataframe\">\n",
       "  <thead>\n",
       "    <tr>\n",
       "      <th></th>\n",
       "      <th>Total_Trans_Ct</th>\n",
       "      <th>Total_Trans_Amt</th>\n",
       "      <th>Total_Revolving_Bal</th>\n",
       "      <th>Total_Ct_Chng_Q4_Q1</th>\n",
       "      <th>Avg_Utilization_Ratio</th>\n",
       "      <th>Total_Relationship_Count</th>\n",
       "      <th>avg transaction</th>\n",
       "    </tr>\n",
       "    <tr>\n",
       "      <th></th>\n",
       "      <th>mean</th>\n",
       "      <th>mean</th>\n",
       "      <th>mean</th>\n",
       "      <th>mean</th>\n",
       "      <th>mean</th>\n",
       "      <th>mean</th>\n",
       "      <th></th>\n",
       "    </tr>\n",
       "    <tr>\n",
       "      <th>Attrition_Flag</th>\n",
       "      <th></th>\n",
       "      <th></th>\n",
       "      <th></th>\n",
       "      <th></th>\n",
       "      <th></th>\n",
       "      <th></th>\n",
       "      <th></th>\n",
       "    </tr>\n",
       "  </thead>\n",
       "  <tbody>\n",
       "    <tr>\n",
       "      <th>Attrited Customer</th>\n",
       "      <td>44.807727</td>\n",
       "      <td>3106.296496</td>\n",
       "      <td>668.353998</td>\n",
       "      <td>0.556502</td>\n",
       "      <td>0.163571</td>\n",
       "      <td>3.298293</td>\n",
       "      <td>69.325019</td>\n",
       "    </tr>\n",
       "    <tr>\n",
       "      <th>Existing Customer</th>\n",
       "      <td>68.176441</td>\n",
       "      <td>4634.505529</td>\n",
       "      <td>1260.589980</td>\n",
       "      <td>0.740415</td>\n",
       "      <td>0.304458</td>\n",
       "      <td>3.916555</td>\n",
       "      <td>67.978109</td>\n",
       "    </tr>\n",
       "  </tbody>\n",
       "</table>\n",
       "</div>"
      ],
      "text/plain": [
       "                  Total_Trans_Ct Total_Trans_Amt Total_Revolving_Bal  \\\n",
       "                            mean            mean                mean   \n",
       "Attrition_Flag                                                         \n",
       "Attrited Customer      44.807727     3106.296496          668.353998   \n",
       "Existing Customer      68.176441     4634.505529         1260.589980   \n",
       "\n",
       "                  Total_Ct_Chng_Q4_Q1 Avg_Utilization_Ratio  \\\n",
       "                                 mean                  mean   \n",
       "Attrition_Flag                                                \n",
       "Attrited Customer            0.556502              0.163571   \n",
       "Existing Customer            0.740415              0.304458   \n",
       "\n",
       "                  Total_Relationship_Count avg transaction  \n",
       "                                      mean                  \n",
       "Attrition_Flag                                              \n",
       "Attrited Customer                 3.298293       69.325019  \n",
       "Existing Customer                 3.916555       67.978109  "
      ]
     },
     "execution_count": 27,
     "metadata": {},
     "output_type": "execute_result"
    }
   ],
   "source": [
    "df2 = df.groupby(['Attrition_Flag'])[['Total_Trans_Ct', 'Total_Trans_Amt','Total_Revolving_Bal','Total_Ct_Chng_Q4_Q1','Avg_Utilization_Ratio','Total_Relationship_Count']].agg(['mean'])[:10]\n",
    "\n",
    "df2['avg transaction'] = df2['Total_Trans_Amt'] / df2['Total_Trans_Ct']\n",
    "df2\n",
    "\n",
    "#looks like average transaction size doesn't matter much\n",
    "#but average utilization does"
   ]
  },
  {
   "cell_type": "code",
   "execution_count": 28,
   "id": "23be3c65",
   "metadata": {},
   "outputs": [
    {
     "data": {
      "text/html": [
       "<div>\n",
       "<style scoped>\n",
       "    .dataframe tbody tr th:only-of-type {\n",
       "        vertical-align: middle;\n",
       "    }\n",
       "\n",
       "    .dataframe tbody tr th {\n",
       "        vertical-align: top;\n",
       "    }\n",
       "\n",
       "    .dataframe thead tr th {\n",
       "        text-align: left;\n",
       "    }\n",
       "\n",
       "    .dataframe thead tr:last-of-type th {\n",
       "        text-align: right;\n",
       "    }\n",
       "</style>\n",
       "<table border=\"1\" class=\"dataframe\">\n",
       "  <thead>\n",
       "    <tr>\n",
       "      <th></th>\n",
       "      <th></th>\n",
       "      <th>Total_Trans_Ct</th>\n",
       "      <th>Total_Trans_Amt</th>\n",
       "      <th>Total_Revolving_Bal</th>\n",
       "      <th>Total_Ct_Chng_Q4_Q1</th>\n",
       "      <th>Avg_Utilization_Ratio</th>\n",
       "      <th>Total_Relationship_Count</th>\n",
       "    </tr>\n",
       "    <tr>\n",
       "      <th></th>\n",
       "      <th></th>\n",
       "      <th>mean</th>\n",
       "      <th>mean</th>\n",
       "      <th>mean</th>\n",
       "      <th>mean</th>\n",
       "      <th>mean</th>\n",
       "      <th>mean</th>\n",
       "    </tr>\n",
       "    <tr>\n",
       "      <th>Attrition_Flag</th>\n",
       "      <th>Card_Category</th>\n",
       "      <th></th>\n",
       "      <th></th>\n",
       "      <th></th>\n",
       "      <th></th>\n",
       "      <th></th>\n",
       "      <th></th>\n",
       "    </tr>\n",
       "  </thead>\n",
       "  <tbody>\n",
       "    <tr>\n",
       "      <th rowspan=\"4\" valign=\"top\">Attrited Customer</th>\n",
       "      <th>Blue</th>\n",
       "      <td>44.030948</td>\n",
       "      <td>2948.869439</td>\n",
       "      <td>667.903288</td>\n",
       "      <td>0.551727</td>\n",
       "      <td>0.173677</td>\n",
       "      <td>3.299807</td>\n",
       "    </tr>\n",
       "    <tr>\n",
       "      <th>Gold</th>\n",
       "      <td>64.615385</td>\n",
       "      <td>6865.615385</td>\n",
       "      <td>994.692308</td>\n",
       "      <td>0.661385</td>\n",
       "      <td>0.039385</td>\n",
       "      <td>3.615385</td>\n",
       "    </tr>\n",
       "    <tr>\n",
       "      <th>Platinum</th>\n",
       "      <td>60.666667</td>\n",
       "      <td>4820.000000</td>\n",
       "      <td>262.000000</td>\n",
       "      <td>0.532000</td>\n",
       "      <td>0.012333</td>\n",
       "      <td>3.333333</td>\n",
       "    </tr>\n",
       "    <tr>\n",
       "      <th>Silver</th>\n",
       "      <td>52.714286</td>\n",
       "      <td>4832.761905</td>\n",
       "      <td>627.761905</td>\n",
       "      <td>0.614397</td>\n",
       "      <td>0.030540</td>\n",
       "      <td>3.206349</td>\n",
       "    </tr>\n",
       "    <tr>\n",
       "      <th rowspan=\"4\" valign=\"top\">Existing Customer</th>\n",
       "      <th>Blue</th>\n",
       "      <td>67.298347</td>\n",
       "      <td>4452.831057</td>\n",
       "      <td>1255.982207</td>\n",
       "      <td>0.741533</td>\n",
       "      <td>0.321922</td>\n",
       "      <td>3.953271</td>\n",
       "    </tr>\n",
       "    <tr>\n",
       "      <th>Gold</th>\n",
       "      <td>88.691176</td>\n",
       "      <td>8604.426471</td>\n",
       "      <td>1404.705882</td>\n",
       "      <td>0.721676</td>\n",
       "      <td>0.061456</td>\n",
       "      <td>2.838235</td>\n",
       "    </tr>\n",
       "    <tr>\n",
       "      <th>Platinum</th>\n",
       "      <td>107.375000</td>\n",
       "      <td>12103.000000</td>\n",
       "      <td>1780.500000</td>\n",
       "      <td>0.664875</td>\n",
       "      <td>0.061000</td>\n",
       "      <td>2.250000</td>\n",
       "    </tr>\n",
       "    <tr>\n",
       "      <th>Silver</th>\n",
       "      <td>77.862805</td>\n",
       "      <td>6711.134146</td>\n",
       "      <td>1296.195122</td>\n",
       "      <td>0.727189</td>\n",
       "      <td>0.064512</td>\n",
       "      <td>3.557927</td>\n",
       "    </tr>\n",
       "  </tbody>\n",
       "</table>\n",
       "</div>"
      ],
      "text/plain": [
       "                                Total_Trans_Ct Total_Trans_Amt  \\\n",
       "                                          mean            mean   \n",
       "Attrition_Flag    Card_Category                                  \n",
       "Attrited Customer Blue               44.030948     2948.869439   \n",
       "                  Gold               64.615385     6865.615385   \n",
       "                  Platinum           60.666667     4820.000000   \n",
       "                  Silver             52.714286     4832.761905   \n",
       "Existing Customer Blue               67.298347     4452.831057   \n",
       "                  Gold               88.691176     8604.426471   \n",
       "                  Platinum          107.375000    12103.000000   \n",
       "                  Silver             77.862805     6711.134146   \n",
       "\n",
       "                                Total_Revolving_Bal Total_Ct_Chng_Q4_Q1  \\\n",
       "                                               mean                mean   \n",
       "Attrition_Flag    Card_Category                                           \n",
       "Attrited Customer Blue                   667.903288            0.551727   \n",
       "                  Gold                   994.692308            0.661385   \n",
       "                  Platinum               262.000000            0.532000   \n",
       "                  Silver                 627.761905            0.614397   \n",
       "Existing Customer Blue                  1255.982207            0.741533   \n",
       "                  Gold                  1404.705882            0.721676   \n",
       "                  Platinum              1780.500000            0.664875   \n",
       "                  Silver                1296.195122            0.727189   \n",
       "\n",
       "                                Avg_Utilization_Ratio Total_Relationship_Count  \n",
       "                                                 mean                     mean  \n",
       "Attrition_Flag    Card_Category                                                 \n",
       "Attrited Customer Blue                       0.173677                 3.299807  \n",
       "                  Gold                       0.039385                 3.615385  \n",
       "                  Platinum                   0.012333                 3.333333  \n",
       "                  Silver                     0.030540                 3.206349  \n",
       "Existing Customer Blue                       0.321922                 3.953271  \n",
       "                  Gold                       0.061456                 2.838235  \n",
       "                  Platinum                   0.061000                 2.250000  \n",
       "                  Silver                     0.064512                 3.557927  "
      ]
     },
     "execution_count": 28,
     "metadata": {},
     "output_type": "execute_result"
    }
   ],
   "source": [
    "df.groupby(['Attrition_Flag', \"Card_Category\"])[['Total_Trans_Ct', 'Total_Trans_Amt','Total_Revolving_Bal','Total_Ct_Chng_Q4_Q1','Avg_Utilization_Ratio','Total_Relationship_Count']].agg(['mean'])[:10]"
   ]
  },
  {
   "cell_type": "code",
   "execution_count": 29,
   "id": "39e9d68f",
   "metadata": {},
   "outputs": [
    {
     "data": {
      "text/plain": [
       "Text(0, 0.5, 'Transactions')"
      ]
     },
     "execution_count": 29,
     "metadata": {},
     "output_type": "execute_result"
    },
    {
     "data": {
      "image/png": "[encoded data removed]",
      "text/plain": [
       "<Figure size 432x288 with 1 Axes>"
      ]
     },
     "metadata": {
      "needs_background": "light"
     },
     "output_type": "display_data"
    }
   ],
   "source": [
    "df.groupby(['Attrition_Flag'])[['Total_Trans_Ct']].agg(['mean'])[:10].plot(kind='bar')\n",
    "ylabel(\"Transactions\")"
   ]
  },
  {
   "cell_type": "code",
   "execution_count": 30,
   "id": "b5ee6fb6",
   "metadata": {},
   "outputs": [
    {
     "data": {
      "text/html": [
       "<div>\n",
       "<style scoped>\n",
       "    .dataframe tbody tr th:only-of-type {\n",
       "        vertical-align: middle;\n",
       "    }\n",
       "\n",
       "    .dataframe tbody tr th {\n",
       "        vertical-align: top;\n",
       "    }\n",
       "\n",
       "    .dataframe thead th {\n",
       "        text-align: right;\n",
       "    }\n",
       "</style>\n",
       "<table border=\"1\" class=\"dataframe\">\n",
       "  <thead>\n",
       "    <tr style=\"text-align: right;\">\n",
       "      <th></th>\n",
       "      <th></th>\n",
       "      <th>Total_Trans_Ct</th>\n",
       "      <th>Total_Trans_Amt</th>\n",
       "      <th>Total_Revolving_Bal</th>\n",
       "      <th>Total_Ct_Chng_Q4_Q1</th>\n",
       "      <th>Avg_Utilization_Ratio</th>\n",
       "      <th>Total_Relationship_Count</th>\n",
       "    </tr>\n",
       "    <tr>\n",
       "      <th>Attrition_Flag</th>\n",
       "      <th>Marital_Status</th>\n",
       "      <th></th>\n",
       "      <th></th>\n",
       "      <th></th>\n",
       "      <th></th>\n",
       "      <th></th>\n",
       "      <th></th>\n",
       "    </tr>\n",
       "  </thead>\n",
       "  <tbody>\n",
       "    <tr>\n",
       "      <th rowspan=\"3\" valign=\"top\">Attrited Customer</th>\n",
       "      <th>Divorced</th>\n",
       "      <td>45.217391</td>\n",
       "      <td>3153.032609</td>\n",
       "      <td>715.467391</td>\n",
       "      <td>0.542587</td>\n",
       "      <td>0.145902</td>\n",
       "      <td>3.326087</td>\n",
       "    </tr>\n",
       "    <tr>\n",
       "      <th>Married</th>\n",
       "      <td>42.931947</td>\n",
       "      <td>2909.943289</td>\n",
       "      <td>669.357278</td>\n",
       "      <td>0.547949</td>\n",
       "      <td>0.166681</td>\n",
       "      <td>3.351607</td>\n",
       "    </tr>\n",
       "    <tr>\n",
       "      <th>Single</th>\n",
       "      <td>46.747967</td>\n",
       "      <td>3308.676829</td>\n",
       "      <td>658.465447</td>\n",
       "      <td>0.568301</td>\n",
       "      <td>0.163533</td>\n",
       "      <td>3.235772</td>\n",
       "    </tr>\n",
       "    <tr>\n",
       "      <th rowspan=\"3\" valign=\"top\">Existing Customer</th>\n",
       "      <th>Divorced</th>\n",
       "      <td>71.542977</td>\n",
       "      <td>4900.144654</td>\n",
       "      <td>1260.174004</td>\n",
       "      <td>0.739721</td>\n",
       "      <td>0.296673</td>\n",
       "      <td>3.926625</td>\n",
       "    </tr>\n",
       "    <tr>\n",
       "      <th>Married</th>\n",
       "      <td>64.570675</td>\n",
       "      <td>4383.465239</td>\n",
       "      <td>1301.583855</td>\n",
       "      <td>0.740893</td>\n",
       "      <td>0.317382</td>\n",
       "      <td>3.953542</td>\n",
       "    </tr>\n",
       "    <tr>\n",
       "      <th>Single</th>\n",
       "      <td>71.978420</td>\n",
       "      <td>4893.136401</td>\n",
       "      <td>1210.012622</td>\n",
       "      <td>0.739960</td>\n",
       "      <td>0.289998</td>\n",
       "      <td>3.868893</td>\n",
       "    </tr>\n",
       "  </tbody>\n",
       "</table>\n",
       "</div>"
      ],
      "text/plain": [
       "                                  Total_Trans_Ct  Total_Trans_Amt  \\\n",
       "Attrition_Flag    Marital_Status                                    \n",
       "Attrited Customer Divorced             45.217391      3153.032609   \n",
       "                  Married              42.931947      2909.943289   \n",
       "                  Single               46.747967      3308.676829   \n",
       "Existing Customer Divorced             71.542977      4900.144654   \n",
       "                  Married              64.570675      4383.465239   \n",
       "                  Single               71.978420      4893.136401   \n",
       "\n",
       "                                  Total_Revolving_Bal  Total_Ct_Chng_Q4_Q1  \\\n",
       "Attrition_Flag    Marital_Status                                             \n",
       "Attrited Customer Divorced                 715.467391             0.542587   \n",
       "                  Married                  669.357278             0.547949   \n",
       "                  Single                   658.465447             0.568301   \n",
       "Existing Customer Divorced                1260.174004             0.739721   \n",
       "                  Married                 1301.583855             0.740893   \n",
       "                  Single                  1210.012622             0.739960   \n",
       "\n",
       "                                  Avg_Utilization_Ratio  \\\n",
       "Attrition_Flag    Marital_Status                          \n",
       "Attrited Customer Divorced                     0.145902   \n",
       "                  Married                      0.166681   \n",
       "                  Single                       0.163533   \n",
       "Existing Customer Divorced                     0.296673   \n",
       "                  Married                      0.317382   \n",
       "                  Single                       0.289998   \n",
       "\n",
       "                                  Total_Relationship_Count  \n",
       "Attrition_Flag    Marital_Status                            \n",
       "Attrited Customer Divorced                        3.326087  \n",
       "                  Married                         3.351607  \n",
       "                  Single                          3.235772  \n",
       "Existing Customer Divorced                        3.926625  \n",
       "                  Married                         3.953542  \n",
       "                  Single                          3.868893  "
      ]
     },
     "execution_count": 30,
     "metadata": {},
     "output_type": "execute_result"
    }
   ],
   "source": [
    "df.groupby(['Attrition_Flag', 'Marital_Status'])[['Total_Trans_Ct', 'Total_Trans_Amt','Total_Revolving_Bal','Total_Ct_Chng_Q4_Q1','Avg_Utilization_Ratio','Total_Relationship_Count']].mean()[:10]"
   ]
  },
  {
   "cell_type": "code",
   "execution_count": 31,
   "id": "fc58562b",
   "metadata": {},
   "outputs": [
    {
     "data": {
      "text/html": [
       "<div>\n",
       "<style scoped>\n",
       "    .dataframe tbody tr th:only-of-type {\n",
       "        vertical-align: middle;\n",
       "    }\n",
       "\n",
       "    .dataframe tbody tr th {\n",
       "        vertical-align: top;\n",
       "    }\n",
       "\n",
       "    .dataframe thead th {\n",
       "        text-align: right;\n",
       "    }\n",
       "</style>\n",
       "<table border=\"1\" class=\"dataframe\">\n",
       "  <thead>\n",
       "    <tr style=\"text-align: right;\">\n",
       "      <th></th>\n",
       "      <th></th>\n",
       "      <th>Total_Trans_Ct</th>\n",
       "      <th>Total_Trans_Amt</th>\n",
       "      <th>Total_Revolving_Bal</th>\n",
       "      <th>Total_Ct_Chng_Q4_Q1</th>\n",
       "      <th>Avg_Utilization_Ratio</th>\n",
       "      <th>Total_Relationship_Count</th>\n",
       "    </tr>\n",
       "    <tr>\n",
       "      <th>Attrition_Flag</th>\n",
       "      <th>Dependent_count</th>\n",
       "      <th></th>\n",
       "      <th></th>\n",
       "      <th></th>\n",
       "      <th></th>\n",
       "      <th></th>\n",
       "      <th></th>\n",
       "    </tr>\n",
       "  </thead>\n",
       "  <tbody>\n",
       "    <tr>\n",
       "      <th rowspan=\"6\" valign=\"top\">Attrited Customer</th>\n",
       "      <th>0</th>\n",
       "      <td>47.306931</td>\n",
       "      <td>3691.188119</td>\n",
       "      <td>615.792079</td>\n",
       "      <td>0.609129</td>\n",
       "      <td>0.156287</td>\n",
       "      <td>3.326733</td>\n",
       "    </tr>\n",
       "    <tr>\n",
       "      <th>1</th>\n",
       "      <td>45.375000</td>\n",
       "      <td>3281.407609</td>\n",
       "      <td>644.369565</td>\n",
       "      <td>0.564609</td>\n",
       "      <td>0.173777</td>\n",
       "      <td>3.385870</td>\n",
       "    </tr>\n",
       "    <tr>\n",
       "      <th>2</th>\n",
       "      <td>42.785965</td>\n",
       "      <td>2776.842105</td>\n",
       "      <td>718.150877</td>\n",
       "      <td>0.549635</td>\n",
       "      <td>0.173677</td>\n",
       "      <td>3.185965</td>\n",
       "    </tr>\n",
       "    <tr>\n",
       "      <th>3</th>\n",
       "      <td>43.878419</td>\n",
       "      <td>2955.036474</td>\n",
       "      <td>659.155015</td>\n",
       "      <td>0.542547</td>\n",
       "      <td>0.167195</td>\n",
       "      <td>3.291793</td>\n",
       "    </tr>\n",
       "    <tr>\n",
       "      <th>4</th>\n",
       "      <td>46.491228</td>\n",
       "      <td>3213.444444</td>\n",
       "      <td>699.543860</td>\n",
       "      <td>0.540813</td>\n",
       "      <td>0.151012</td>\n",
       "      <td>3.456140</td>\n",
       "    </tr>\n",
       "    <tr>\n",
       "      <th>5</th>\n",
       "      <td>50.325581</td>\n",
       "      <td>3897.976744</td>\n",
       "      <td>510.744186</td>\n",
       "      <td>0.612884</td>\n",
       "      <td>0.092256</td>\n",
       "      <td>3.023256</td>\n",
       "    </tr>\n",
       "    <tr>\n",
       "      <th rowspan=\"4\" valign=\"top\">Existing Customer</th>\n",
       "      <th>0</th>\n",
       "      <td>63.882243</td>\n",
       "      <td>4240.570093</td>\n",
       "      <td>1240.244860</td>\n",
       "      <td>0.720751</td>\n",
       "      <td>0.334310</td>\n",
       "      <td>4.071028</td>\n",
       "    </tr>\n",
       "    <tr>\n",
       "      <th>1</th>\n",
       "      <td>66.340367</td>\n",
       "      <td>4546.866972</td>\n",
       "      <td>1306.438532</td>\n",
       "      <td>0.733763</td>\n",
       "      <td>0.332270</td>\n",
       "      <td>4.014679</td>\n",
       "    </tr>\n",
       "    <tr>\n",
       "      <th>2</th>\n",
       "      <td>69.048903</td>\n",
       "      <td>4779.265831</td>\n",
       "      <td>1232.947335</td>\n",
       "      <td>0.742291</td>\n",
       "      <td>0.291861</td>\n",
       "      <td>3.887774</td>\n",
       "    </tr>\n",
       "    <tr>\n",
       "      <th>3</th>\n",
       "      <td>68.541875</td>\n",
       "      <td>4581.245625</td>\n",
       "      <td>1259.718125</td>\n",
       "      <td>0.740876</td>\n",
       "      <td>0.289670</td>\n",
       "      <td>3.900625</td>\n",
       "    </tr>\n",
       "  </tbody>\n",
       "</table>\n",
       "</div>"
      ],
      "text/plain": [
       "                                   Total_Trans_Ct  Total_Trans_Amt  \\\n",
       "Attrition_Flag    Dependent_count                                    \n",
       "Attrited Customer 0                     47.306931      3691.188119   \n",
       "                  1                     45.375000      3281.407609   \n",
       "                  2                     42.785965      2776.842105   \n",
       "                  3                     43.878419      2955.036474   \n",
       "                  4                     46.491228      3213.444444   \n",
       "                  5                     50.325581      3897.976744   \n",
       "Existing Customer 0                     63.882243      4240.570093   \n",
       "                  1                     66.340367      4546.866972   \n",
       "                  2                     69.048903      4779.265831   \n",
       "                  3                     68.541875      4581.245625   \n",
       "\n",
       "                                   Total_Revolving_Bal  Total_Ct_Chng_Q4_Q1  \\\n",
       "Attrition_Flag    Dependent_count                                             \n",
       "Attrited Customer 0                         615.792079             0.609129   \n",
       "                  1                         644.369565             0.564609   \n",
       "                  2                         718.150877             0.549635   \n",
       "                  3                         659.155015             0.542547   \n",
       "                  4                         699.543860             0.540813   \n",
       "                  5                         510.744186             0.612884   \n",
       "Existing Customer 0                        1240.244860             0.720751   \n",
       "                  1                        1306.438532             0.733763   \n",
       "                  2                        1232.947335             0.742291   \n",
       "                  3                        1259.718125             0.740876   \n",
       "\n",
       "                                   Avg_Utilization_Ratio  \\\n",
       "Attrition_Flag    Dependent_count                          \n",
       "Attrited Customer 0                             0.156287   \n",
       "                  1                             0.173777   \n",
       "                  2                             0.173677   \n",
       "                  3                             0.167195   \n",
       "                  4                             0.151012   \n",
       "                  5                             0.092256   \n",
       "Existing Customer 0                             0.334310   \n",
       "                  1                             0.332270   \n",
       "                  2                             0.291861   \n",
       "                  3                             0.289670   \n",
       "\n",
       "                                   Total_Relationship_Count  \n",
       "Attrition_Flag    Dependent_count                            \n",
       "Attrited Customer 0                                3.326733  \n",
       "                  1                                3.385870  \n",
       "                  2                                3.185965  \n",
       "                  3                                3.291793  \n",
       "                  4                                3.456140  \n",
       "                  5                                3.023256  \n",
       "Existing Customer 0                                4.071028  \n",
       "                  1                                4.014679  \n",
       "                  2                                3.887774  \n",
       "                  3                                3.900625  "
      ]
     },
     "execution_count": 31,
     "metadata": {},
     "output_type": "execute_result"
    }
   ],
   "source": [
    "df.groupby(['Attrition_Flag', 'Dependent_count'])[['Total_Trans_Ct', 'Total_Trans_Amt','Total_Revolving_Bal','Total_Ct_Chng_Q4_Q1','Avg_Utilization_Ratio','Total_Relationship_Count']].mean()[:10]"
   ]
  },
  {
   "cell_type": "code",
   "execution_count": 32,
   "id": "8d338836",
   "metadata": {},
   "outputs": [
    {
     "data": {
      "text/plain": [
       "Text(0.5, 0, '')"
      ]
     },
     "execution_count": 32,
     "metadata": {},
     "output_type": "execute_result"
    },
    {
     "data": {
      "image/png": "[encoded data removed]",
      "text/plain": [
       "<Figure size 432x288 with 1 Axes>"
      ]
     },
     "metadata": {
      "needs_background": "light"
     },
     "output_type": "display_data"
    }
   ],
   "source": [
    "df.groupby(['Attrition_Flag', 'Marital_Status'])['Total_Trans_Ct'].mean()[:10].T.plot(kind='bar', color=['#eb8773','#eb8773','#eb8773','#79e083','#79e083','#79e083'])\n",
    "ylabel('Total Transaction Count')\n",
    "xlabel('')\n",
    "\n",
    "#KEY QUESTION: is this because we stopped counting? lol"
   ]
  },
  {
   "cell_type": "code",
   "execution_count": 33,
   "id": "69261f76",
   "metadata": {},
   "outputs": [
    {
     "data": {
      "text/plain": [
       "Text(0.5, 0, '')"
      ]
     },
     "execution_count": 33,
     "metadata": {},
     "output_type": "execute_result"
    },
    {
     "data": {
      "image/png": "[encoded data removed]",
      "text/plain": [
       "<Figure size 432x288 with 1 Axes>"
      ]
     },
     "metadata": {
      "needs_background": "light"
     },
     "output_type": "display_data"
    }
   ],
   "source": [
    "df.groupby(['Attrition_Flag', 'Dependent_count'])['Total_Trans_Amt'].mean()[:10].T.plot(kind='bar', color=['#eb8773','#eb8773','#eb8773','#eb8773','#eb8773','#eb8773','#79e083','#79e083','#79e083','#79e083'])\n",
    "ylabel('Total Transaction Amount')\n",
    "xlabel('')"
   ]
  },
  {
   "cell_type": "code",
   "execution_count": 34,
   "id": "5436e497",
   "metadata": {},
   "outputs": [
    {
     "data": {
      "text/plain": [
       "Text(0.5, 0, '')"
      ]
     },
     "execution_count": 34,
     "metadata": {},
     "output_type": "execute_result"
    },
    {
     "data": {
      "image/png": "[encoded data removed]",
      "text/plain": [
       "<Figure size 432x288 with 1 Axes>"
      ]
     },
     "metadata": {
      "needs_background": "light"
     },
     "output_type": "display_data"
    }
   ],
   "source": [
    "df.groupby(['Attrition_Flag','Dependent_count'])['Total_Revolving_Bal'].mean()[:10].plot(kind='bar', color=['#eb8773','#eb8773','#eb8773','#eb8773','#eb8773','#eb8773','#79e083','#79e083','#79e083','#79e083'])\n",
    "ylabel('Total Revolving Balance')\n",
    "xlabel('')"
   ]
  },
  {
   "cell_type": "code",
   "execution_count": 35,
   "id": "b0d6bb64",
   "metadata": {},
   "outputs": [
    {
     "data": {
      "text/plain": [
       "Text(0.5, 0, '')"
      ]
     },
     "execution_count": 35,
     "metadata": {},
     "output_type": "execute_result"
    },
    {
     "data": {
      "image/png": "[encoded data removed]",
      "text/plain": [
       "<Figure size 432x288 with 1 Axes>"
      ]
     },
     "metadata": {
      "needs_background": "light"
     },
     "output_type": "display_data"
    }
   ],
   "source": [
    "df.groupby(['Attrition_Flag','Total_Relationship_Count'])['Total_Revolving_Bal'].mean()[:10].plot(kind='bar', color=['#eb8773','#eb8773','#eb8773','#eb8773','#eb8773','#eb8773','#79e083','#79e083','#79e083','#79e083'])\n",
    "ylabel('Total Revolving Balance')\n",
    "xlabel('')"
   ]
  },
  {
   "cell_type": "code",
   "execution_count": 36,
   "id": "81b3fca1",
   "metadata": {},
   "outputs": [],
   "source": [
    "#generally, those who are in the \"stay\" category have\n",
    "\n",
    "#higher total revolving balances (-.000813)\n",
    "#higher transaction counts (-.117747)\n",
    "#higher total transaction amounts (-.000004)\n",
    "#similar average transactions \n",
    "#higher total ct change Q4 (-.0845)\n",
    "#double the average utilization ratio (.01299) CONFLICTS\n",
    "#marginally higher total relationship count (-.2448)"
   ]
  },
  {
   "cell_type": "code",
   "execution_count": null,
   "id": "6c8295ca",
   "metadata": {},
   "outputs": [],
   "source": []
  },
  {
   "cell_type": "code",
   "execution_count": 37,
   "id": "c776a26b",
   "metadata": {},
   "outputs": [
    {
     "name": "stdout",
     "output_type": "stream",
     "text": [
      "Populating the interactive namespace from numpy and matplotlib\n"
     ]
    }
   ],
   "source": [
    "from pandas import Series, DataFrame\n",
    "import pandas as pd\n",
    "from patsy import dmatrices\n",
    "%pylab inline\n",
    "from sklearn.model_selection import train_test_split\n",
    "\n",
    "#Convert gender to numerical\n",
    "df = df.replace('F',1)\n",
    "df = df.replace('M', 2)\n",
    "\n",
    "#Convert education level to numerical\n",
    "df = df.replace('Uneducated', 1)\n",
    "df = df.replace('High School', 2)\n",
    "df = df.replace('College', 3)\n",
    "df = df.replace('Graduate', 4)\n",
    "df = df.replace('Post-Graduate', 5)\n",
    "df = df.replace('Doctorate', 6)\n",
    "\n",
    "\n",
    "#Convert marital status to numerical\n",
    "df = df.replace('$60K - $80K', 60)\n",
    "df = df.replace('Less than $40K', 20)\n",
    "df = df.replace('$80K - $120K', 80)\n",
    "df = df.replace('$40K - $60K', 40)\n",
    "df = df.replace('$120K +', 120)\n",
    "\n",
    "#Convert card category to numerical\n",
    "\n",
    "df = df.replace('Blue', 1)\n",
    "df = df.replace('Silver', 2)\n",
    "df = df.replace('Gold', 3)\n",
    "df = df.replace('Platinum', 4)\n"
   ]
  },
  {
   "cell_type": "code",
   "execution_count": 38,
   "id": "687b395b",
   "metadata": {},
   "outputs": [],
   "source": [
    "formula = 'Customer_Status ~ 0 + Customer_Age + C(Gender) + Dependent_count  + C(Education_Level)' +\\\n",
    "    ' + C(Marital_Status) + C(Income_Category) + C(Card_Category) + Months_on_book + Total_Relationship_Count' +\\\n",
    "    ' + Months_Inactive_12_mon + Contacts_Count_12_mon + Credit_Limit + Total_Revolving_Bal' +\\\n",
    "    ' + Total_Amt_Chng_Q4_Q1 + Total_Trans_Amt + Total_Trans_Ct + Total_Ct_Chng_Q4_Q1' +\\\n",
    "    ' + Avg_Utilization_Ratio'\n",
    "\n",
    "Y, X = dmatrices(formula, df,return_type=\"dataframe\")"
   ]
  },
  {
   "cell_type": "code",
   "execution_count": 39,
   "id": "79918f04",
   "metadata": {},
   "outputs": [
    {
     "name": "stdout",
     "output_type": "stream",
     "text": [
      "Requirement already satisfied: imblearn in /Users/soumikchoudhuri/Downloads/anaconda3/lib/python3.8/site-packages (0.0)\n",
      "Requirement already satisfied: imbalanced-learn in /Users/soumikchoudhuri/Downloads/anaconda3/lib/python3.8/site-packages (from imblearn) (0.8.0)\n",
      "Requirement already satisfied: joblib>=0.11 in /Users/soumikchoudhuri/Downloads/anaconda3/lib/python3.8/site-packages (from imbalanced-learn->imblearn) (1.0.1)\n",
      "Requirement already satisfied: numpy>=1.13.3 in /Users/soumikchoudhuri/Downloads/anaconda3/lib/python3.8/site-packages (from imbalanced-learn->imblearn) (1.20.1)\n",
      "Requirement already satisfied: scipy>=0.19.1 in /Users/soumikchoudhuri/Downloads/anaconda3/lib/python3.8/site-packages (from imbalanced-learn->imblearn) (1.6.2)\n",
      "Requirement already satisfied: scikit-learn>=0.24 in /Users/soumikchoudhuri/Downloads/anaconda3/lib/python3.8/site-packages (from imbalanced-learn->imblearn) (0.24.1)\n",
      "Requirement already satisfied: threadpoolctl>=2.0.0 in /Users/soumikchoudhuri/Downloads/anaconda3/lib/python3.8/site-packages (from scikit-learn>=0.24->imbalanced-learn->imblearn) (2.1.0)\n"
     ]
    }
   ],
   "source": [
    "!pip3 install imblearn\n",
    "import imblearn\n",
    "from imblearn.over_sampling import SMOTE\n",
    "from sklearn.model_selection import train_test_split\n",
    "\n",
    "y = Y['Customer_Status'].values\n",
    "X_train, X_test, y_train, y_test = train_test_split(X, y, test_size=0.3, random_state=1)\n",
    "\n",
    "oversample = SMOTE()\n",
    "X_train, y_train = oversample.fit_resample(X_train, y_train)"
   ]
  },
  {
   "cell_type": "code",
   "execution_count": 40,
   "id": "687f62a0",
   "metadata": {},
   "outputs": [
    {
     "data": {
      "text/plain": [
       "0.8788332815376156"
      ]
     },
     "execution_count": 40,
     "metadata": {},
     "output_type": "execute_result"
    }
   ],
   "source": [
    "from sklearn import neighbors\n",
    "from sklearn import metrics\n",
    "from sklearn.model_selection import train_test_split\n",
    "from sklearn import model_selection\n",
    "def cv_accuracy_score(X, y, nn):\n",
    "    \"\"\"For each fold, fit the nearest neighbors model\n",
    "    with nn nearest neighbors on the train, and return accuracy\n",
    "    on the test.\"\"\"\n",
    "    \n",
    "    model = neighbors.KNeighborsClassifier(n_neighbors=nn,\n",
    "                                           weights='uniform')\n",
    "    accuracies = []\n",
    "    \n",
    "    kfold = model_selection.StratifiedKFold(n_splits=10, shuffle=True).split(X, y)\n",
    "    \n",
    "    for train, holdout in kfold:\n",
    "        # Select the training and testing data using the indices\n",
    "        # provided by kfold\n",
    "        X_train = X.iloc[train]\n",
    "        X_holdout = X.iloc[holdout]\n",
    "        y_train = y[train]\n",
    "        y_holdout = y[holdout]\n",
    "        \n",
    "        # Fit the model\n",
    "        model.fit(X_train, y_train)\n",
    "        \n",
    "        # Compute test accuracy\n",
    "        accuracy = metrics.accuracy_score(y_holdout, model.predict(X_holdout))\n",
    "        accuracies.append(accuracy)\n",
    "    \n",
    "    average_accuracy = sum(accuracies) * 1.0 / len(accuracies)\n",
    "    \n",
    "    return average_accuracy\n",
    "\n",
    "#nearest neighbor = 1 and kfold = 10\n",
    "cv_accuracy_score(X, y, nn=1)"
   ]
  },
  {
   "cell_type": "code",
   "execution_count": 41,
   "id": "d1bd65b5",
   "metadata": {},
   "outputs": [
    {
     "data": {
      "text/plain": [
       "8348"
      ]
     },
     "execution_count": 41,
     "metadata": {},
     "output_type": "execute_result"
    }
   ],
   "source": [
    "len(X_train)"
   ]
  },
  {
   "cell_type": "code",
   "execution_count": 42,
   "id": "1cecf1c1",
   "metadata": {},
   "outputs": [
    {
     "data": {
      "text/plain": [
       "C(Gender)[1]                    float64\n",
       "C(Gender)[2]                    float64\n",
       "C(Education_Level)[T.2]         float64\n",
       "C(Education_Level)[T.3]         float64\n",
       "C(Education_Level)[T.4]         float64\n",
       "C(Education_Level)[T.5]         float64\n",
       "C(Education_Level)[T.6]         float64\n",
       "C(Marital_Status)[T.Married]    float64\n",
       "C(Marital_Status)[T.Single]     float64\n",
       "C(Income_Category)[T.40]        float64\n",
       "C(Income_Category)[T.60]        float64\n",
       "C(Income_Category)[T.80]        float64\n",
       "C(Income_Category)[T.120]       float64\n",
       "C(Card_Category)[T.2]           float64\n",
       "C(Card_Category)[T.3]           float64\n",
       "C(Card_Category)[T.4]           float64\n",
       "Customer_Age                    float64\n",
       "Dependent_count                 float64\n",
       "Months_on_book                  float64\n",
       "Total_Relationship_Count        float64\n",
       "Months_Inactive_12_mon          float64\n",
       "Contacts_Count_12_mon           float64\n",
       "Credit_Limit                    float64\n",
       "Total_Revolving_Bal             float64\n",
       "Total_Amt_Chng_Q4_Q1            float64\n",
       "Total_Trans_Amt                 float64\n",
       "Total_Trans_Ct                  float64\n",
       "Total_Ct_Chng_Q4_Q1             float64\n",
       "Avg_Utilization_Ratio           float64\n",
       "dtype: object"
      ]
     },
     "execution_count": 42,
     "metadata": {},
     "output_type": "execute_result"
    }
   ],
   "source": [
    "X_train.dtypes"
   ]
  },
  {
   "cell_type": "code",
   "execution_count": 43,
   "id": "de070b99",
   "metadata": {},
   "outputs": [
    {
     "data": {
      "text/plain": [
       "C(Gender)[1]                    float64\n",
       "C(Gender)[2]                    float64\n",
       "C(Education_Level)[T.2]         float64\n",
       "C(Education_Level)[T.3]         float64\n",
       "C(Education_Level)[T.4]         float64\n",
       "C(Education_Level)[T.5]         float64\n",
       "C(Education_Level)[T.6]         float64\n",
       "C(Marital_Status)[T.Married]    float64\n",
       "C(Marital_Status)[T.Single]     float64\n",
       "C(Income_Category)[T.40]        float64\n",
       "C(Income_Category)[T.60]        float64\n",
       "C(Income_Category)[T.80]        float64\n",
       "C(Income_Category)[T.120]       float64\n",
       "C(Card_Category)[T.2]           float64\n",
       "C(Card_Category)[T.3]           float64\n",
       "C(Card_Category)[T.4]           float64\n",
       "Customer_Age                    float64\n",
       "Dependent_count                 float64\n",
       "Months_on_book                  float64\n",
       "Total_Relationship_Count        float64\n",
       "Months_Inactive_12_mon          float64\n",
       "Contacts_Count_12_mon           float64\n",
       "Credit_Limit                    float64\n",
       "Total_Revolving_Bal             float64\n",
       "Total_Amt_Chng_Q4_Q1            float64\n",
       "Total_Trans_Amt                 float64\n",
       "Total_Trans_Ct                  float64\n",
       "Total_Ct_Chng_Q4_Q1             float64\n",
       "Avg_Utilization_Ratio           float64\n",
       "dtype: object"
      ]
     },
     "execution_count": 43,
     "metadata": {},
     "output_type": "execute_result"
    }
   ],
   "source": [
    "X.dtypes"
   ]
  },
  {
   "cell_type": "code",
   "execution_count": 44,
   "id": "00aee2c2",
   "metadata": {},
   "outputs": [
    {
     "name": "stdout",
     "output_type": "stream",
     "text": [
      "(array([0., 1.]), array([4174, 4174]))\n"
     ]
    }
   ],
   "source": [
    "print(np.unique(y_train, return_counts=True))"
   ]
  },
  {
   "cell_type": "code",
   "execution_count": 45,
   "id": "8672a96c",
   "metadata": {},
   "outputs": [
    {
     "name": "stdout",
     "output_type": "stream",
     "text": [
      "(array([0., 1.]), array([1794,  331]))\n"
     ]
    }
   ],
   "source": [
    "print(np.unique(y_test, return_counts=True))"
   ]
  },
  {
   "cell_type": "code",
   "execution_count": 47,
   "id": "0515d522",
   "metadata": {},
   "outputs": [
    {
     "data": {
      "text/plain": [
       "8348"
      ]
     },
     "execution_count": 47,
     "metadata": {},
     "output_type": "execute_result"
    }
   ],
   "source": [
    "len(y_train)"
   ]
  },
  {
   "cell_type": "code",
   "execution_count": 48,
   "id": "ae9bf59c",
   "metadata": {},
   "outputs": [
    {
     "data": {
      "text/plain": [
       "2125"
      ]
     },
     "execution_count": 48,
     "metadata": {},
     "output_type": "execute_result"
    }
   ],
   "source": [
    "len(X_test)"
   ]
  },
  {
   "cell_type": "code",
   "execution_count": 49,
   "id": "586b41b4",
   "metadata": {},
   "outputs": [
    {
     "data": {
      "text/plain": [
       "2125"
      ]
     },
     "execution_count": 49,
     "metadata": {},
     "output_type": "execute_result"
    }
   ],
   "source": [
    "len(y_test)"
   ]
  },
  {
   "cell_type": "code",
   "execution_count": 50,
   "id": "ca06e138",
   "metadata": {},
   "outputs": [],
   "source": [
    "# Build a list of multiple nn to cross validate knn\n",
    "nn = [1] + [(x + 1) * 5 for x in range(19)]\n",
    "scores = [cv_accuracy_score(X, y, num_nbrs) for num_nbrs in nn]\n"
   ]
  },
  {
   "cell_type": "code",
   "execution_count": 51,
   "id": "47727cab",
   "metadata": {},
   "outputs": [
    {
     "data": {
      "text/plain": [
       "Text(0, 0.5, 'Accuracy of classifier')"
      ]
     },
     "execution_count": 51,
     "metadata": {},
     "output_type": "execute_result"
    },
    {
     "data": {
      "image/png": "[encoded data removed]",
      "text/plain": [
       "<Figure size 432x288 with 1 Axes>"
      ]
     },
     "metadata": {
      "needs_background": "light"
     },
     "output_type": "display_data"
    }
   ],
   "source": [
    "plot(nn, scores)\n",
    "xlabel('Number of nearest neighbors')\n",
    "ylabel('Accuracy of classifier')"
   ]
  },
  {
   "cell_type": "code",
   "execution_count": 52,
   "id": "df5446cc",
   "metadata": {},
   "outputs": [
    {
     "data": {
      "text/plain": [
       "0.8940819408253848"
      ]
     },
     "execution_count": 52,
     "metadata": {},
     "output_type": "execute_result"
    }
   ],
   "source": [
    "cv_accuracy_score(X, y, nn=10)"
   ]
  },
  {
   "cell_type": "code",
   "execution_count": null,
   "id": "e04c758e",
   "metadata": {},
   "outputs": [],
   "source": [
    "# model = neighbors.KNeighborsClassifier(n_neighbors=10, weights='uniform')\n",
    "\n",
    "# model.fit(X_train, y_train)"
   ]
  },
  {
   "cell_type": "code",
   "execution_count": null,
   "id": "32728ebf",
   "metadata": {},
   "outputs": [],
   "source": [
    "#prediction_train = model.predict(X_train)"
   ]
  },
  {
   "cell_type": "code",
   "execution_count": null,
   "id": "86597932",
   "metadata": {},
   "outputs": [],
   "source": [
    "#pd.crosstab(y_train, prediction_train)"
   ]
  },
  {
   "cell_type": "code",
   "execution_count": 53,
   "id": "067ab607",
   "metadata": {},
   "outputs": [],
   "source": [
    "from sklearn.metrics import classification_report, confusion_matrix\n",
    "\n",
    "import seaborn as sns\n",
    "\n",
    "from sklearn import metrics"
   ]
  },
  {
   "cell_type": "code",
   "execution_count": null,
   "id": "30878fc3",
   "metadata": {},
   "outputs": [],
   "source": [
    "# y = Y['Customer_Status'].values\n",
    "# X_train, X_test, y_train, y_test = train_test_split(X, y, test_size=0.3, random_state=1)"
   ]
  },
  {
   "cell_type": "code",
   "execution_count": 54,
   "id": "fa67108a",
   "metadata": {},
   "outputs": [
    {
     "name": "stdout",
     "output_type": "stream",
     "text": [
      "0.8291806420699569\n"
     ]
    },
    {
     "name": "stderr",
     "output_type": "stream",
     "text": [
      "/Users/soumikchoudhuri/Downloads/anaconda3/lib/python3.8/site-packages/sklearn/linear_model/_logistic.py:763: ConvergenceWarning: lbfgs failed to converge (status=1):\n",
      "STOP: TOTAL NO. of ITERATIONS REACHED LIMIT.\n",
      "\n",
      "Increase the number of iterations (max_iter) or scale the data as shown in:\n",
      "    https://scikit-learn.org/stable/modules/preprocessing.html\n",
      "Please also refer to the documentation for alternative solver options:\n",
      "    https://scikit-learn.org/stable/modules/linear_model.html#logistic-regression\n",
      "  n_iter_i = _check_optimize_result(\n"
     ]
    }
   ],
   "source": [
    "from sklearn.linear_model import LogisticRegression\n",
    "\n",
    "model_lr = LogisticRegression()\n",
    "result = model_lr.fit(X_train, y_train)\n",
    "\n",
    "from sklearn import metrics\n",
    "\n",
    "prediction_train = model_lr.predict(X_train)\n",
    "print(metrics.accuracy_score(y_train, prediction_train))"
   ]
  },
  {
   "cell_type": "code",
   "execution_count": 55,
   "id": "771586c7",
   "metadata": {},
   "outputs": [
    {
     "data": {
      "image/png": "[encoded data removed]",
      "text/plain": [
       "<Figure size 432x432 with 2 Axes>"
      ]
     },
     "metadata": {
      "needs_background": "light"
     },
     "output_type": "display_data"
    }
   ],
   "source": [
    "cm = confusion_matrix(y_train, prediction_train)\n",
    "\n",
    "plt.figure(figsize=(6,6))\n",
    "sns.heatmap(cm, annot=True, fmt=\".0f\", linewidths=.5, square = True, cmap = 'Greens_r');\n",
    "plt.ylabel('Actual label');\n",
    "plt.xlabel('Predicted label');\n",
    "all_sample_title = 'Train Accuracy: {0}'.format(metrics.accuracy_score(y_train, prediction_train),\".3f\")\n",
    "plt.title(all_sample_title, size = 15);"
   ]
  },
  {
   "cell_type": "code",
   "execution_count": 56,
   "id": "2915cdd7",
   "metadata": {},
   "outputs": [
    {
     "name": "stdout",
     "output_type": "stream",
     "text": [
      "              precision    recall  f1-score   support\n",
      "\n",
      "         0.0       0.84      0.81      0.83      4174\n",
      "         1.0       0.82      0.84      0.83      4174\n",
      "\n",
      "    accuracy                           0.83      8348\n",
      "   macro avg       0.83      0.83      0.83      8348\n",
      "weighted avg       0.83      0.83      0.83      8348\n",
      "\n"
     ]
    }
   ],
   "source": [
    "report = classification_report(y_train, prediction_train)\n",
    "print(report)"
   ]
  },
  {
   "cell_type": "code",
   "execution_count": null,
   "id": "972c124f",
   "metadata": {},
   "outputs": [],
   "source": [
    "# cm = confusion_matrix(y_train, prediction_train)\n",
    "\n",
    "# fig, ax = plt.subplots(figsize=(4, 4))\n",
    "# ax.imshow(cm)\n",
    "# ax.grid(False)\n",
    "# ax.xaxis.set(ticks=(0, 1), ticklabels=('Predicted 0s', 'Predicted 1s'))\n",
    "# ax.yaxis.set(ticks=(0, 1), ticklabels=('Actual 0s', 'Actual 1s'))\n",
    "# ax.set_ylim(1.5, -0.5)\n",
    "# for i in range(2):\n",
    "#     for j in range(2):\n",
    "#         ax.text(j, i, cm[i, j], ha='center', va='center', color='red')\n",
    "# plt.show()"
   ]
  },
  {
   "cell_type": "code",
   "execution_count": 57,
   "id": "395d8043",
   "metadata": {},
   "outputs": [
    {
     "name": "stdout",
     "output_type": "stream",
     "text": [
      "0.8192941176470588\n"
     ]
    }
   ],
   "source": [
    "prediction = model_lr.predict(X_test)\n",
    "print(metrics.accuracy_score(y_test, prediction))"
   ]
  },
  {
   "cell_type": "code",
   "execution_count": 58,
   "id": "c068fd98",
   "metadata": {},
   "outputs": [],
   "source": [
    "#from sklearn.metrics import classification_report, confusion_matrix\n",
    "\n",
    "cm = confusion_matrix(y_test, prediction)"
   ]
  },
  {
   "cell_type": "code",
   "execution_count": 59,
   "id": "71e1f5d8",
   "metadata": {},
   "outputs": [
    {
     "data": {
      "image/png": "[encoded data removed]",
      "text/plain": [
       "<Figure size 432x432 with 2 Axes>"
      ]
     },
     "metadata": {
      "needs_background": "light"
     },
     "output_type": "display_data"
    }
   ],
   "source": [
    "\n",
    "plt.figure(figsize=(6,6))\n",
    "sns.heatmap(cm, annot=True, fmt=\".0f\", linewidths=.5, square = True, cmap = 'Greens_r');\n",
    "plt.ylabel('Actual label');\n",
    "plt.xlabel('Predicted label');\n",
    "all_sample_title = 'Test Accuracy: {0}'.format(metrics.accuracy_score(y_test, prediction),\".3f\")\n",
    "plt.title(all_sample_title, size = 15);"
   ]
  },
  {
   "cell_type": "code",
   "execution_count": 60,
   "id": "f63455a9",
   "metadata": {},
   "outputs": [
    {
     "name": "stdout",
     "output_type": "stream",
     "text": [
      "              precision    recall  f1-score   support\n",
      "\n",
      "         0.0       0.96      0.82      0.88      1794\n",
      "         1.0       0.45      0.80      0.58       331\n",
      "\n",
      "    accuracy                           0.82      2125\n",
      "   macro avg       0.71      0.81      0.73      2125\n",
      "weighted avg       0.88      0.82      0.84      2125\n",
      "\n"
     ]
    }
   ],
   "source": [
    "report = classification_report(y_test, prediction)\n",
    "print(report)"
   ]
  },
  {
   "cell_type": "code",
   "execution_count": 61,
   "id": "2718ce44",
   "metadata": {
    "scrolled": true
   },
   "outputs": [
    {
     "name": "stdout",
     "output_type": "stream",
     "text": [
      "0.8192941176470588\n"
     ]
    }
   ],
   "source": [
    "prediction = model_lr.predict(X_test)\n",
    "print(metrics.accuracy_score(y_test, prediction))"
   ]
  },
  {
   "cell_type": "code",
   "execution_count": 62,
   "id": "c8ad2290",
   "metadata": {},
   "outputs": [
    {
     "data": {
      "text/html": [
       "<div>\n",
       "<style scoped>\n",
       "    .dataframe tbody tr th:only-of-type {\n",
       "        vertical-align: middle;\n",
       "    }\n",
       "\n",
       "    .dataframe tbody tr th {\n",
       "        vertical-align: top;\n",
       "    }\n",
       "\n",
       "    .dataframe thead th {\n",
       "        text-align: right;\n",
       "    }\n",
       "</style>\n",
       "<table border=\"1\" class=\"dataframe\">\n",
       "  <thead>\n",
       "    <tr style=\"text-align: right;\">\n",
       "      <th>col_0</th>\n",
       "      <th>0.0</th>\n",
       "      <th>1.0</th>\n",
       "    </tr>\n",
       "    <tr>\n",
       "      <th>row_0</th>\n",
       "      <th></th>\n",
       "      <th></th>\n",
       "    </tr>\n",
       "  </thead>\n",
       "  <tbody>\n",
       "    <tr>\n",
       "      <th>0.0</th>\n",
       "      <td>1476</td>\n",
       "      <td>318</td>\n",
       "    </tr>\n",
       "    <tr>\n",
       "      <th>1.0</th>\n",
       "      <td>66</td>\n",
       "      <td>265</td>\n",
       "    </tr>\n",
       "  </tbody>\n",
       "</table>\n",
       "</div>"
      ],
      "text/plain": [
       "col_0   0.0  1.0\n",
       "row_0           \n",
       "0.0    1476  318\n",
       "1.0      66  265"
      ]
     },
     "execution_count": 62,
     "metadata": {},
     "output_type": "execute_result"
    }
   ],
   "source": [
    "pd.crosstab(y_test,prediction)"
   ]
  },
  {
   "cell_type": "code",
   "execution_count": 63,
   "id": "a7862009",
   "metadata": {},
   "outputs": [
    {
     "name": "stdout",
     "output_type": "stream",
     "text": [
      "              precision    recall  f1-score   support\n",
      "\n",
      "         0.0       0.84      0.81      0.83      4174\n",
      "         1.0       0.82      0.84      0.83      4174\n",
      "\n",
      "    accuracy                           0.83      8348\n",
      "   macro avg       0.83      0.83      0.83      8348\n",
      "weighted avg       0.83      0.83      0.83      8348\n",
      "\n"
     ]
    }
   ],
   "source": [
    "report = classification_report(y_train, prediction_train)\n",
    "print(report)"
   ]
  },
  {
   "cell_type": "code",
   "execution_count": null,
   "id": "270cb073",
   "metadata": {},
   "outputs": [],
   "source": [
    "\n",
    "\n",
    "# cm = confusion_matrix(y_test, prediction)\n",
    "\n",
    "# fig, ax = plt.subplots(figsize=(8, 8))\n",
    "# ax.imshow(cm)\n",
    "# ax.grid(False)\n",
    "# ax.xaxis.set(ticks=(0, 1), ticklabels=('Predicted 0s', 'Predicted 1s'))\n",
    "# ax.yaxis.set(ticks=(0, 1), ticklabels=('Actual 0s', 'Actual 1s'))\n",
    "# ax.set_ylim(1.5, -0.5)\n",
    "# for i in range(2):\n",
    "#     for j in range(2):\n",
    "#         ax.text(j, i, cm[i, j], ha='center', va='center', color='red')\n",
    "# plt.show()"
   ]
  },
  {
   "cell_type": "code",
   "execution_count": 64,
   "id": "15415942",
   "metadata": {},
   "outputs": [
    {
     "data": {
      "text/plain": [
       "Total_Relationship_Count       -0.277086\n",
       "Total_Trans_Ct                 -0.122831\n",
       "Total_Ct_Chng_Q4_Q1            -0.103451\n",
       "C(Gender)[2]                   -0.079291\n",
       "C(Marital_Status)[T.Married]   -0.063581\n",
       "C(Income_Category)[T.60]       -0.054187\n",
       "C(Income_Category)[T.80]       -0.011192\n",
       "C(Education_Level)[T.2]        -0.009471\n",
       "Total_Amt_Chng_Q4_Q1           -0.008098\n",
       "Total_Revolving_Bal            -0.000954\n",
       "Credit_Limit                   -0.000011\n",
       "Total_Trans_Amt                 0.000504\n",
       "C(Card_Category)[T.4]           0.005138\n",
       "C(Card_Category)[T.2]           0.007203\n",
       "C(Card_Category)[T.3]           0.008852\n",
       "C(Income_Category)[T.40]        0.013552\n",
       "C(Income_Category)[T.120]       0.022067\n",
       "Avg_Utilization_Ratio           0.022935\n",
       "C(Education_Level)[T.4]         0.023174\n",
       "C(Education_Level)[T.5]         0.023545\n",
       "Months_on_book                  0.023660\n",
       "C(Education_Level)[T.3]         0.027203\n",
       "C(Education_Level)[T.6]         0.030898\n",
       "Customer_Age                    0.032631\n",
       "C(Marital_Status)[T.Single]     0.160642\n",
       "C(Gender)[1]                    0.189426\n",
       "Dependent_count                 0.387178\n",
       "Months_Inactive_12_mon          0.603417\n",
       "Contacts_Count_12_mon           0.740424\n",
       "dtype: float64"
      ]
     },
     "execution_count": 64,
     "metadata": {},
     "output_type": "execute_result"
    }
   ],
   "source": [
    "#feature weights\n",
    "\n",
    "weights = Series(model_lr.coef_[0],\n",
    "                 index=X.columns.values)\n",
    "weights.sort_values()"
   ]
  },
  {
   "cell_type": "code",
   "execution_count": 65,
   "id": "534d5fd7",
   "metadata": {},
   "outputs": [
    {
     "name": "stdout",
     "output_type": "stream",
     "text": [
      "0.9148235294117647\n"
     ]
    }
   ],
   "source": [
    "#Random Forest Classifier\n",
    "\n",
    "from sklearn.ensemble import RandomForestClassifier\n",
    "\n",
    "#Random Forest model\n",
    "model_rf = RandomForestClassifier(random_state = 0, max_depth = 5)\n",
    "model_rf.fit(X_train,y_train)\n",
    "prediction = model_rf.predict(X_test)\n",
    "print(metrics.accuracy_score(y_test, prediction))\n",
    "#pd.crosstab(y_test,prediction)"
   ]
  },
  {
   "cell_type": "code",
   "execution_count": 66,
   "id": "95f16b87",
   "metadata": {
    "scrolled": true
   },
   "outputs": [
    {
     "data": {
      "text/html": [
       "<div>\n",
       "<style scoped>\n",
       "    .dataframe tbody tr th:only-of-type {\n",
       "        vertical-align: middle;\n",
       "    }\n",
       "\n",
       "    .dataframe tbody tr th {\n",
       "        vertical-align: top;\n",
       "    }\n",
       "\n",
       "    .dataframe thead th {\n",
       "        text-align: right;\n",
       "    }\n",
       "</style>\n",
       "<table border=\"1\" class=\"dataframe\">\n",
       "  <thead>\n",
       "    <tr style=\"text-align: right;\">\n",
       "      <th></th>\n",
       "      <th>importance</th>\n",
       "    </tr>\n",
       "  </thead>\n",
       "  <tbody>\n",
       "    <tr>\n",
       "      <th>Total_Trans_Ct</th>\n",
       "      <td>0.229598</td>\n",
       "    </tr>\n",
       "    <tr>\n",
       "      <th>Total_Trans_Amt</th>\n",
       "      <td>0.186462</td>\n",
       "    </tr>\n",
       "    <tr>\n",
       "      <th>Total_Revolving_Bal</th>\n",
       "      <td>0.120386</td>\n",
       "    </tr>\n",
       "    <tr>\n",
       "      <th>Total_Ct_Chng_Q4_Q1</th>\n",
       "      <td>0.075906</td>\n",
       "    </tr>\n",
       "    <tr>\n",
       "      <th>Avg_Utilization_Ratio</th>\n",
       "      <td>0.071665</td>\n",
       "    </tr>\n",
       "    <tr>\n",
       "      <th>Months_Inactive_12_mon</th>\n",
       "      <td>0.057379</td>\n",
       "    </tr>\n",
       "    <tr>\n",
       "      <th>Contacts_Count_12_mon</th>\n",
       "      <td>0.048800</td>\n",
       "    </tr>\n",
       "    <tr>\n",
       "      <th>Total_Relationship_Count</th>\n",
       "      <td>0.045341</td>\n",
       "    </tr>\n",
       "    <tr>\n",
       "      <th>C(Marital_Status)[T.Single]</th>\n",
       "      <td>0.025796</td>\n",
       "    </tr>\n",
       "    <tr>\n",
       "      <th>C(Marital_Status)[T.Married]</th>\n",
       "      <td>0.025461</td>\n",
       "    </tr>\n",
       "    <tr>\n",
       "      <th>Total_Amt_Chng_Q4_Q1</th>\n",
       "      <td>0.024089</td>\n",
       "    </tr>\n",
       "    <tr>\n",
       "      <th>C(Gender)[2]</th>\n",
       "      <td>0.018945</td>\n",
       "    </tr>\n",
       "    <tr>\n",
       "      <th>C(Education_Level)[T.4]</th>\n",
       "      <td>0.015702</td>\n",
       "    </tr>\n",
       "    <tr>\n",
       "      <th>C(Gender)[1]</th>\n",
       "      <td>0.011239</td>\n",
       "    </tr>\n",
       "    <tr>\n",
       "      <th>Credit_Limit</th>\n",
       "      <td>0.009896</td>\n",
       "    </tr>\n",
       "    <tr>\n",
       "      <th>C(Education_Level)[T.2]</th>\n",
       "      <td>0.005976</td>\n",
       "    </tr>\n",
       "    <tr>\n",
       "      <th>C(Income_Category)[T.60]</th>\n",
       "      <td>0.005741</td>\n",
       "    </tr>\n",
       "    <tr>\n",
       "      <th>Dependent_count</th>\n",
       "      <td>0.004980</td>\n",
       "    </tr>\n",
       "    <tr>\n",
       "      <th>C(Income_Category)[T.40]</th>\n",
       "      <td>0.002957</td>\n",
       "    </tr>\n",
       "    <tr>\n",
       "      <th>C(Income_Category)[T.80]</th>\n",
       "      <td>0.002952</td>\n",
       "    </tr>\n",
       "    <tr>\n",
       "      <th>Customer_Age</th>\n",
       "      <td>0.002935</td>\n",
       "    </tr>\n",
       "    <tr>\n",
       "      <th>Months_on_book</th>\n",
       "      <td>0.002663</td>\n",
       "    </tr>\n",
       "    <tr>\n",
       "      <th>C(Education_Level)[T.5]</th>\n",
       "      <td>0.001954</td>\n",
       "    </tr>\n",
       "    <tr>\n",
       "      <th>C(Card_Category)[T.3]</th>\n",
       "      <td>0.000899</td>\n",
       "    </tr>\n",
       "    <tr>\n",
       "      <th>C(Education_Level)[T.6]</th>\n",
       "      <td>0.000826</td>\n",
       "    </tr>\n",
       "    <tr>\n",
       "      <th>C(Card_Category)[T.2]</th>\n",
       "      <td>0.000498</td>\n",
       "    </tr>\n",
       "    <tr>\n",
       "      <th>C(Card_Category)[T.4]</th>\n",
       "      <td>0.000405</td>\n",
       "    </tr>\n",
       "    <tr>\n",
       "      <th>C(Education_Level)[T.3]</th>\n",
       "      <td>0.000335</td>\n",
       "    </tr>\n",
       "    <tr>\n",
       "      <th>C(Income_Category)[T.120]</th>\n",
       "      <td>0.000218</td>\n",
       "    </tr>\n",
       "  </tbody>\n",
       "</table>\n",
       "</div>"
      ],
      "text/plain": [
       "                              importance\n",
       "Total_Trans_Ct                  0.229598\n",
       "Total_Trans_Amt                 0.186462\n",
       "Total_Revolving_Bal             0.120386\n",
       "Total_Ct_Chng_Q4_Q1             0.075906\n",
       "Avg_Utilization_Ratio           0.071665\n",
       "Months_Inactive_12_mon          0.057379\n",
       "Contacts_Count_12_mon           0.048800\n",
       "Total_Relationship_Count        0.045341\n",
       "C(Marital_Status)[T.Single]     0.025796\n",
       "C(Marital_Status)[T.Married]    0.025461\n",
       "Total_Amt_Chng_Q4_Q1            0.024089\n",
       "C(Gender)[2]                    0.018945\n",
       "C(Education_Level)[T.4]         0.015702\n",
       "C(Gender)[1]                    0.011239\n",
       "Credit_Limit                    0.009896\n",
       "C(Education_Level)[T.2]         0.005976\n",
       "C(Income_Category)[T.60]        0.005741\n",
       "Dependent_count                 0.004980\n",
       "C(Income_Category)[T.40]        0.002957\n",
       "C(Income_Category)[T.80]        0.002952\n",
       "Customer_Age                    0.002935\n",
       "Months_on_book                  0.002663\n",
       "C(Education_Level)[T.5]         0.001954\n",
       "C(Card_Category)[T.3]           0.000899\n",
       "C(Education_Level)[T.6]         0.000826\n",
       "C(Card_Category)[T.2]           0.000498\n",
       "C(Card_Category)[T.4]           0.000405\n",
       "C(Education_Level)[T.3]         0.000335\n",
       "C(Income_Category)[T.120]       0.000218"
      ]
     },
     "execution_count": 66,
     "metadata": {},
     "output_type": "execute_result"
    }
   ],
   "source": [
    "model_list = X.columns\n",
    "feature_importance = pd.DataFrame(model_rf.feature_importances_, model_list, columns = ['importance']).sort_values('importance', ascending = False)\n",
    "feature_importance"
   ]
  },
  {
   "cell_type": "code",
   "execution_count": 68,
   "id": "54476318",
   "metadata": {},
   "outputs": [],
   "source": [
    "from sklearn.metrics import classification_report, confusion_matrix\n",
    "\n",
    "import seaborn as sns\n",
    "\n",
    "from sklearn import metrics"
   ]
  },
  {
   "cell_type": "code",
   "execution_count": 69,
   "id": "559d2cac",
   "metadata": {},
   "outputs": [
    {
     "data": {
      "image/png": "[encoded data removed]",
      "text/plain": [
       "<Figure size 432x432 with 2 Axes>"
      ]
     },
     "metadata": {
      "needs_background": "light"
     },
     "output_type": "display_data"
    }
   ],
   "source": [
    "prediction_train = model_rf.predict(X_train)\n",
    "cm = confusion_matrix(y_train, prediction_train)\n",
    "\n",
    "plt.figure(figsize=(6,6))\n",
    "sns.heatmap(cm, annot=True, fmt=\".0f\", linewidths=.5, square = True, cmap = 'Greens_r');\n",
    "plt.ylabel('Actual label');\n",
    "plt.xlabel('Predicted label');\n",
    "all_sample_title = 'Train Accuracy: {0}'.format(metrics.accuracy_score(y_train, prediction_train),\".3f\")\n",
    "plt.title(all_sample_title, size = 15);"
   ]
  },
  {
   "cell_type": "code",
   "execution_count": 70,
   "id": "32044cc5",
   "metadata": {},
   "outputs": [
    {
     "name": "stdout",
     "output_type": "stream",
     "text": [
      "              precision    recall  f1-score   support\n",
      "\n",
      "         0.0       0.94      0.94      0.94      4174\n",
      "         1.0       0.94      0.94      0.94      4174\n",
      "\n",
      "    accuracy                           0.94      8348\n",
      "   macro avg       0.94      0.94      0.94      8348\n",
      "weighted avg       0.94      0.94      0.94      8348\n",
      "\n"
     ]
    }
   ],
   "source": [
    "report = classification_report(y_train, prediction_train)\n",
    "print(report)"
   ]
  },
  {
   "cell_type": "code",
   "execution_count": 71,
   "id": "df52b67e",
   "metadata": {},
   "outputs": [
    {
     "data": {
      "image/png": "[encoded data removed]",
      "text/plain": [
       "<Figure size 432x432 with 2 Axes>"
      ]
     },
     "metadata": {
      "needs_background": "light"
     },
     "output_type": "display_data"
    }
   ],
   "source": [
    "\n",
    "cm = confusion_matrix(y_test, prediction)\n",
    "\n",
    "plt.figure(figsize=(6,6))\n",
    "sns.heatmap(cm, annot=True, fmt=\".0f\", linewidths=.5, square = True, cmap = 'Greens_r');\n",
    "plt.ylabel('Actual label');\n",
    "plt.xlabel('Predicted label');\n",
    "all_sample_title = 'Test Accuracy: {0}'.format(metrics.accuracy_score(y_test, prediction),\".3f\")\n",
    "plt.title(all_sample_title, size = 15);"
   ]
  },
  {
   "cell_type": "code",
   "execution_count": 72,
   "id": "ca77c162",
   "metadata": {},
   "outputs": [
    {
     "name": "stdout",
     "output_type": "stream",
     "text": [
      "              precision    recall  f1-score   support\n",
      "\n",
      "         0.0       0.96      0.94      0.95      1794\n",
      "         1.0       0.70      0.79      0.74       331\n",
      "\n",
      "    accuracy                           0.91      2125\n",
      "   macro avg       0.83      0.87      0.85      2125\n",
      "weighted avg       0.92      0.91      0.92      2125\n",
      "\n"
     ]
    }
   ],
   "source": [
    "report = classification_report(y_test, prediction)\n",
    "print(report)"
   ]
  },
  {
   "cell_type": "code",
   "execution_count": null,
   "id": "476b89a1",
   "metadata": {},
   "outputs": [],
   "source": []
  },
  {
   "cell_type": "code",
   "execution_count": null,
   "id": "0bb78258",
   "metadata": {},
   "outputs": [],
   "source": []
  },
  {
   "cell_type": "code",
   "execution_count": null,
   "id": "398ae64f",
   "metadata": {},
   "outputs": [],
   "source": []
  },
  {
   "cell_type": "code",
   "execution_count": null,
   "id": "6cd3b1c0",
   "metadata": {},
   "outputs": [],
   "source": [
    "#Decision tree"
   ]
  },
  {
   "cell_type": "code",
   "execution_count": null,
   "id": "4e08d01a",
   "metadata": {},
   "outputs": [],
   "source": [
    "#splitting the data into train and test\n",
    "#X_train, X_test, y_train, y_test = train_test_split(X, y, test_size=0.3, random_state=1)"
   ]
  },
  {
   "cell_type": "code",
   "execution_count": 73,
   "id": "bf151ed0",
   "metadata": {},
   "outputs": [
    {
     "name": "stdout",
     "output_type": "stream",
     "text": [
      "max_depth=1 scores=[0.78622754 0.77664671 0.76946108 0.76872379 0.77651288] avg_score=0.7755143996010376\n",
      "max_depth=2 scores=[0.76047904 0.79101796 0.78323353 0.76512882 0.78310365] avg_score=0.7765926026915612\n",
      "max_depth=3 scores=[0.85508982 0.8508982  0.85808383 0.86399041 0.86518874] avg_score=0.8586502010957116\n",
      "max_depth=4 scores=[0.89281437 0.89580838 0.90299401 0.89215099 0.89934092] avg_score=0.8966217355582424\n",
      "max_depth=5 scores=[0.92634731 0.9251497  0.91497006 0.91551827 0.92450569] avg_score=0.9212982064630475\n"
     ]
    }
   ],
   "source": [
    "#decision tree with 10 fold cross validation\n",
    "\n",
    "from sklearn.model_selection import cross_val_score, StratifiedKFold\n",
    "\n",
    "from sklearn import tree\n",
    "\n",
    "# Create the folds in the training data\n",
    "kfold = StratifiedKFold(n_splits=5, shuffle=True)\n",
    "\n",
    "# Iterate over max_depth\n",
    "for max_depth in [1, 2, 3, 4, 5]:\n",
    "    model3 = tree.DecisionTreeClassifier(criterion='entropy', max_depth=max_depth)\n",
    "    scores = cross_val_score(model3, X_train, y_train, cv=kfold)\n",
    "    print('max_depth={} scores={} avg_score={}'.format(max_depth, scores, scores.mean()))\n",
    "\n"
   ]
  },
  {
   "cell_type": "code",
   "execution_count": 74,
   "id": "e1e99886",
   "metadata": {},
   "outputs": [],
   "source": [
    "#We are proceeding with max_Depth = 3"
   ]
  },
  {
   "cell_type": "code",
   "execution_count": 75,
   "id": "c65353dd",
   "metadata": {},
   "outputs": [],
   "source": [
    "#fitting with max_depth = 3\n",
    "model3 = tree.DecisionTreeClassifier(criterion='entropy', max_depth=5)\n",
    "result = model3.fit(X_train, y_train)"
   ]
  },
  {
   "cell_type": "code",
   "execution_count": 76,
   "id": "a389c035",
   "metadata": {},
   "outputs": [
    {
     "name": "stdout",
     "output_type": "stream",
     "text": [
      "0.9306420699568759\n"
     ]
    }
   ],
   "source": [
    "#accuracy on training data\n",
    "prediction_train = model3.predict(X_train)\n",
    "print(metrics.accuracy_score(y_train, prediction_train))"
   ]
  },
  {
   "cell_type": "code",
   "execution_count": 77,
   "id": "cfbcfadd",
   "metadata": {},
   "outputs": [
    {
     "data": {
      "image/png": "[encoded data removed]",
      "text/plain": [
       "<Figure size 432x432 with 2 Axes>"
      ]
     },
     "metadata": {
      "needs_background": "light"
     },
     "output_type": "display_data"
    }
   ],
   "source": [
    "cm = confusion_matrix(y_train, prediction_train)\n",
    "\n",
    "plt.figure(figsize=(6,6))\n",
    "sns.heatmap(cm, annot=True, fmt=\".0f\", linewidths=.5, square = True, cmap = 'Greens_r');\n",
    "plt.ylabel('Actual label');\n",
    "plt.xlabel('Predicted label');\n",
    "all_sample_title = 'Train Accuracy: {0}'.format(metrics.accuracy_score(y_train, prediction_train),\".3f\")\n",
    "plt.title(all_sample_title, size = 15);"
   ]
  },
  {
   "cell_type": "code",
   "execution_count": 78,
   "id": "e26bc77e",
   "metadata": {},
   "outputs": [
    {
     "name": "stdout",
     "output_type": "stream",
     "text": [
      "0.9072941176470588\n"
     ]
    }
   ],
   "source": [
    "#accuracy on test data\n",
    "prediction = model3.predict(X_test)\n",
    "print(metrics.accuracy_score(y_test, prediction))"
   ]
  },
  {
   "cell_type": "code",
   "execution_count": 79,
   "id": "ac63ee81",
   "metadata": {},
   "outputs": [
    {
     "data": {
      "image/png": "[encoded data removed]",
      "text/plain": [
       "<Figure size 432x432 with 2 Axes>"
      ]
     },
     "metadata": {
      "needs_background": "light"
     },
     "output_type": "display_data"
    }
   ],
   "source": [
    "\n",
    "cm = confusion_matrix(y_test, prediction)\n",
    "\n",
    "plt.figure(figsize=(6,6))\n",
    "sns.heatmap(cm, annot=True, fmt=\".0f\", linewidths=.5, square = True, cmap = 'Greens_r');\n",
    "plt.ylabel('Actual label');\n",
    "plt.xlabel('Predicted label');\n",
    "all_sample_title = 'Test Accuracy: {0}'.format(metrics.accuracy_score(y_test, prediction),\".3f\")\n",
    "plt.title(all_sample_title, size = 15);"
   ]
  },
  {
   "cell_type": "code",
   "execution_count": null,
   "id": "e6cb10dd",
   "metadata": {},
   "outputs": [],
   "source": [
    "# import graphviz"
   ]
  },
  {
   "cell_type": "code",
   "execution_count": 80,
   "id": "904c3a54",
   "metadata": {},
   "outputs": [
    {
     "data": {
      "text/plain": [
       "'Classification__decisiontree/attritions.png'"
      ]
     },
     "execution_count": 80,
     "metadata": {},
     "output_type": "execute_result"
    }
   ],
   "source": [
    "import graphviz\n",
    "graphviz.Source(tree.export_graphviz(model3,\n",
    "                                     out_file=None,\n",
    "                                     feature_names=X.columns.values,\n",
    "                                     filled=True)).render('Classification__decisiontree/attritions', format='png')"
   ]
  },
  {
   "cell_type": "code",
   "execution_count": 81,
   "id": "303c1ad6",
   "metadata": {},
   "outputs": [
    {
     "data": {
      "image/svg+xml": [
       "<?xml version=\"1.0\" encoding=\"UTF-8\" standalone=\"no\"?>\n",
       "<!DOCTYPE svg PUBLIC \"-//W3C//DTD SVG 1.1//EN\"\n",
       " \"http://www.w3.org/Graphics/SVG/1.1/DTD/svg11.dtd\">\n",
       "<!-- Generated by graphviz version 2.48.0 (20210717.1556)\n",
       " -->\n",
       "<!-- Title: Tree Pages: 1 -->\n",
       "<svg width=\"3050pt\" height=\"581pt\"\n",
       " viewBox=\"0.00 0.00 3049.50 581.00\" xmlns=\"http://www.w3.org/2000/svg\" xmlns:xlink=\"http://www.w3.org/1999/xlink\">\n",
       "<g id=\"graph0\" class=\"graph\" transform=\"scale(1 1) rotate(0) translate(4 577)\">\n",
       "<title>Tree</title>\n",
       "<polygon fill=\"white\" stroke=\"transparent\" points=\"-4,4 -4,-577 3045.5,-577 3045.5,4 -4,4\"/>\n",
       "<!-- 0 -->\n",
       "<g id=\"node1\" class=\"node\">\n",
       "<title>0</title>\n",
       "<polygon fill=\"#ffffff\" stroke=\"black\" points=\"1567,-573 1402,-573 1402,-505 1567,-505 1567,-573\"/>\n",
       "<text text-anchor=\"middle\" x=\"1484.5\" y=\"-557.8\" font-family=\"Times,serif\" font-size=\"14.00\">Total_Trans_Ct &lt;= 55.979</text>\n",
       "<text text-anchor=\"middle\" x=\"1484.5\" y=\"-542.8\" font-family=\"Times,serif\" font-size=\"14.00\">entropy = 1.0</text>\n",
       "<text text-anchor=\"middle\" x=\"1484.5\" y=\"-527.8\" font-family=\"Times,serif\" font-size=\"14.00\">samples = 8348</text>\n",
       "<text text-anchor=\"middle\" x=\"1484.5\" y=\"-512.8\" font-family=\"Times,serif\" font-size=\"14.00\">value = [4174, 4174]</text>\n",
       "</g>\n",
       "<!-- 1 -->\n",
       "<g id=\"node2\" class=\"node\">\n",
       "<title>1</title>\n",
       "<polygon fill=\"#7bbeee\" stroke=\"black\" points=\"1268,-469 1077,-469 1077,-401 1268,-401 1268,-469\"/>\n",
       "<text text-anchor=\"middle\" x=\"1172.5\" y=\"-453.8\" font-family=\"Times,serif\" font-size=\"14.00\">Total_Revolving_Bal &lt;= 657.8</text>\n",
       "<text text-anchor=\"middle\" x=\"1172.5\" y=\"-438.8\" font-family=\"Times,serif\" font-size=\"14.00\">entropy = 0.812</text>\n",
       "<text text-anchor=\"middle\" x=\"1172.5\" y=\"-423.8\" font-family=\"Times,serif\" font-size=\"14.00\">samples = 4642</text>\n",
       "<text text-anchor=\"middle\" x=\"1172.5\" y=\"-408.8\" font-family=\"Times,serif\" font-size=\"14.00\">value = [1162, 3480]</text>\n",
       "</g>\n",
       "<!-- 0&#45;&gt;1 -->\n",
       "<g id=\"edge1\" class=\"edge\">\n",
       "<title>0&#45;&gt;1</title>\n",
       "<path fill=\"none\" stroke=\"black\" d=\"M1401.71,-510.93C1363.69,-498.5 1318.16,-483.62 1277.74,-470.4\"/>\n",
       "<polygon fill=\"black\" stroke=\"black\" points=\"1278.71,-467.04 1268.12,-467.26 1276.54,-473.69 1278.71,-467.04\"/>\n",
       "<text text-anchor=\"middle\" x=\"1279.43\" y=\"-485.86\" font-family=\"Times,serif\" font-size=\"14.00\">True</text>\n",
       "</g>\n",
       "<!-- 28 -->\n",
       "<g id=\"node29\" class=\"node\">\n",
       "<title>28</title>\n",
       "<polygon fill=\"#eb9e67\" stroke=\"black\" points=\"2139,-469 1948,-469 1948,-401 2139,-401 2139,-469\"/>\n",
       "<text text-anchor=\"middle\" x=\"2043.5\" y=\"-453.8\" font-family=\"Times,serif\" font-size=\"14.00\">Total_Trans_Amt &lt;= 5201.105</text>\n",
       "<text text-anchor=\"middle\" x=\"2043.5\" y=\"-438.8\" font-family=\"Times,serif\" font-size=\"14.00\">entropy = 0.696</text>\n",
       "<text text-anchor=\"middle\" x=\"2043.5\" y=\"-423.8\" font-family=\"Times,serif\" font-size=\"14.00\">samples = 3706</text>\n",
       "<text text-anchor=\"middle\" x=\"2043.5\" y=\"-408.8\" font-family=\"Times,serif\" font-size=\"14.00\">value = [3012, 694]</text>\n",
       "</g>\n",
       "<!-- 0&#45;&gt;28 -->\n",
       "<g id=\"edge28\" class=\"edge\">\n",
       "<title>0&#45;&gt;28</title>\n",
       "<path fill=\"none\" stroke=\"black\" d=\"M1567.28,-522.89C1665.72,-504.93 1830.19,-474.92 1937.75,-455.3\"/>\n",
       "<polygon fill=\"black\" stroke=\"black\" points=\"1938.44,-458.73 1947.65,-453.49 1937.19,-451.84 1938.44,-458.73\"/>\n",
       "<text text-anchor=\"middle\" x=\"1933.44\" y=\"-470.35\" font-family=\"Times,serif\" font-size=\"14.00\">False</text>\n",
       "</g>\n",
       "<!-- 2 -->\n",
       "<g id=\"node3\" class=\"node\">\n",
       "<title>2</title>\n",
       "<polygon fill=\"#47a4e7\" stroke=\"black\" points=\"687,-365 468,-365 468,-297 687,-297 687,-365\"/>\n",
       "<text text-anchor=\"middle\" x=\"577.5\" y=\"-349.8\" font-family=\"Times,serif\" font-size=\"14.00\">Months_Inactive_12_mon &lt;= 1.001</text>\n",
       "<text text-anchor=\"middle\" x=\"577.5\" y=\"-334.8\" font-family=\"Times,serif\" font-size=\"14.00\">entropy = 0.355</text>\n",
       "<text text-anchor=\"middle\" x=\"577.5\" y=\"-319.8\" font-family=\"Times,serif\" font-size=\"14.00\">samples = 2426</text>\n",
       "<text text-anchor=\"middle\" x=\"577.5\" y=\"-304.8\" font-family=\"Times,serif\" font-size=\"14.00\">value = [163, 2263]</text>\n",
       "</g>\n",
       "<!-- 1&#45;&gt;2 -->\n",
       "<g id=\"edge2\" class=\"edge\">\n",
       "<title>1&#45;&gt;2</title>\n",
       "<path fill=\"none\" stroke=\"black\" d=\"M1076.9,-417.61C973.59,-399.9 808.76,-371.64 696.97,-352.48\"/>\n",
       "<polygon fill=\"black\" stroke=\"black\" points=\"697.45,-349.01 687,-350.77 696.27,-355.91 697.45,-349.01\"/>\n",
       "</g>\n",
       "<!-- 15 -->\n",
       "<g id=\"node16\" class=\"node\">\n",
       "<title>15</title>\n",
       "<polygon fill=\"#dcedfa\" stroke=\"black\" points=\"1281.5,-365 1063.5,-365 1063.5,-297 1281.5,-297 1281.5,-365\"/>\n",
       "<text text-anchor=\"middle\" x=\"1172.5\" y=\"-349.8\" font-family=\"Times,serif\" font-size=\"14.00\">Total_Relationship_Count &lt;= 2.999</text>\n",
       "<text text-anchor=\"middle\" x=\"1172.5\" y=\"-334.8\" font-family=\"Times,serif\" font-size=\"14.00\">entropy = 0.993</text>\n",
       "<text text-anchor=\"middle\" x=\"1172.5\" y=\"-319.8\" font-family=\"Times,serif\" font-size=\"14.00\">samples = 2216</text>\n",
       "<text text-anchor=\"middle\" x=\"1172.5\" y=\"-304.8\" font-family=\"Times,serif\" font-size=\"14.00\">value = [999, 1217]</text>\n",
       "</g>\n",
       "<!-- 1&#45;&gt;15 -->\n",
       "<g id=\"edge15\" class=\"edge\">\n",
       "<title>1&#45;&gt;15</title>\n",
       "<path fill=\"none\" stroke=\"black\" d=\"M1172.5,-400.88C1172.5,-392.78 1172.5,-383.98 1172.5,-375.47\"/>\n",
       "<polygon fill=\"black\" stroke=\"black\" points=\"1176,-375.3 1172.5,-365.3 1169,-375.3 1176,-375.3\"/>\n",
       "</g>\n",
       "<!-- 3 -->\n",
       "<g id=\"node4\" class=\"node\">\n",
       "<title>3</title>\n",
       "<polygon fill=\"#e8f3fc\" stroke=\"black\" points=\"336,-261 117,-261 117,-193 336,-193 336,-261\"/>\n",
       "<text text-anchor=\"middle\" x=\"226.5\" y=\"-245.8\" font-family=\"Times,serif\" font-size=\"14.00\">Months_Inactive_12_mon &lt;= 0.878</text>\n",
       "<text text-anchor=\"middle\" x=\"226.5\" y=\"-230.8\" font-family=\"Times,serif\" font-size=\"14.00\">entropy = 0.997</text>\n",
       "<text text-anchor=\"middle\" x=\"226.5\" y=\"-215.8\" font-family=\"Times,serif\" font-size=\"14.00\">samples = 111</text>\n",
       "<text text-anchor=\"middle\" x=\"226.5\" y=\"-200.8\" font-family=\"Times,serif\" font-size=\"14.00\">value = [52, 59]</text>\n",
       "</g>\n",
       "<!-- 2&#45;&gt;3 -->\n",
       "<g id=\"edge3\" class=\"edge\">\n",
       "<title>2&#45;&gt;3</title>\n",
       "<path fill=\"none\" stroke=\"black\" d=\"M467.89,-298.15C429.14,-286.89 385.38,-274.17 345.87,-262.69\"/>\n",
       "<polygon fill=\"black\" stroke=\"black\" points=\"346.77,-259.3 336.19,-259.88 344.81,-266.03 346.77,-259.3\"/>\n",
       "</g>\n",
       "<!-- 8 -->\n",
       "<g id=\"node9\" class=\"node\">\n",
       "<title>8</title>\n",
       "<polygon fill=\"#43a2e6\" stroke=\"black\" points=\"673,-261 482,-261 482,-193 673,-193 673,-261\"/>\n",
       "<text text-anchor=\"middle\" x=\"577.5\" y=\"-245.8\" font-family=\"Times,serif\" font-size=\"14.00\">Total_Ct_Chng_Q4_Q1 &lt;= 0.8</text>\n",
       "<text text-anchor=\"middle\" x=\"577.5\" y=\"-230.8\" font-family=\"Times,serif\" font-size=\"14.00\">entropy = 0.278</text>\n",
       "<text text-anchor=\"middle\" x=\"577.5\" y=\"-215.8\" font-family=\"Times,serif\" font-size=\"14.00\">samples = 2315</text>\n",
       "<text text-anchor=\"middle\" x=\"577.5\" y=\"-200.8\" font-family=\"Times,serif\" font-size=\"14.00\">value = [111, 2204]</text>\n",
       "</g>\n",
       "<!-- 2&#45;&gt;8 -->\n",
       "<g id=\"edge8\" class=\"edge\">\n",
       "<title>2&#45;&gt;8</title>\n",
       "<path fill=\"none\" stroke=\"black\" d=\"M577.5,-296.88C577.5,-288.78 577.5,-279.98 577.5,-271.47\"/>\n",
       "<polygon fill=\"black\" stroke=\"black\" points=\"581,-271.3 577.5,-261.3 574,-271.3 581,-271.3\"/>\n",
       "</g>\n",
       "<!-- 4 -->\n",
       "<g id=\"node5\" class=\"node\">\n",
       "<title>4</title>\n",
       "<polygon fill=\"#399de5\" stroke=\"black\" points=\"99,-149.5 0,-149.5 0,-96.5 99,-96.5 99,-149.5\"/>\n",
       "<text text-anchor=\"middle\" x=\"49.5\" y=\"-134.3\" font-family=\"Times,serif\" font-size=\"14.00\">entropy = 0.0</text>\n",
       "<text text-anchor=\"middle\" x=\"49.5\" y=\"-119.3\" font-family=\"Times,serif\" font-size=\"14.00\">samples = 23</text>\n",
       "<text text-anchor=\"middle\" x=\"49.5\" y=\"-104.3\" font-family=\"Times,serif\" font-size=\"14.00\">value = [0, 23]</text>\n",
       "</g>\n",
       "<!-- 3&#45;&gt;4 -->\n",
       "<g id=\"edge4\" class=\"edge\">\n",
       "<title>3&#45;&gt;4</title>\n",
       "<path fill=\"none\" stroke=\"black\" d=\"M169.03,-192.88C147.66,-180.57 123.52,-166.65 102.56,-154.57\"/>\n",
       "<polygon fill=\"black\" stroke=\"black\" points=\"104.2,-151.48 93.78,-149.52 100.7,-157.55 104.2,-151.48\"/>\n",
       "</g>\n",
       "<!-- 5 -->\n",
       "<g id=\"node6\" class=\"node\">\n",
       "<title>5</title>\n",
       "<polygon fill=\"#f7d8c2\" stroke=\"black\" points=\"335.5,-157 117.5,-157 117.5,-89 335.5,-89 335.5,-157\"/>\n",
       "<text text-anchor=\"middle\" x=\"226.5\" y=\"-141.8\" font-family=\"Times,serif\" font-size=\"14.00\">Total_Relationship_Count &lt;= 2.716</text>\n",
       "<text text-anchor=\"middle\" x=\"226.5\" y=\"-126.8\" font-family=\"Times,serif\" font-size=\"14.00\">entropy = 0.976</text>\n",
       "<text text-anchor=\"middle\" x=\"226.5\" y=\"-111.8\" font-family=\"Times,serif\" font-size=\"14.00\">samples = 88</text>\n",
       "<text text-anchor=\"middle\" x=\"226.5\" y=\"-96.8\" font-family=\"Times,serif\" font-size=\"14.00\">value = [52, 36]</text>\n",
       "</g>\n",
       "<!-- 3&#45;&gt;5 -->\n",
       "<g id=\"edge5\" class=\"edge\">\n",
       "<title>3&#45;&gt;5</title>\n",
       "<path fill=\"none\" stroke=\"black\" d=\"M226.5,-192.88C226.5,-184.78 226.5,-175.98 226.5,-167.47\"/>\n",
       "<polygon fill=\"black\" stroke=\"black\" points=\"230,-167.3 226.5,-157.3 223,-167.3 230,-167.3\"/>\n",
       "</g>\n",
       "<!-- 6 -->\n",
       "<g id=\"node7\" class=\"node\">\n",
       "<title>6</title>\n",
       "<polygon fill=\"#399de5\" stroke=\"black\" points=\"155,-53 56,-53 56,0 155,0 155,-53\"/>\n",
       "<text text-anchor=\"middle\" x=\"105.5\" y=\"-37.8\" font-family=\"Times,serif\" font-size=\"14.00\">entropy = 0.0</text>\n",
       "<text text-anchor=\"middle\" x=\"105.5\" y=\"-22.8\" font-family=\"Times,serif\" font-size=\"14.00\">samples = 14</text>\n",
       "<text text-anchor=\"middle\" x=\"105.5\" y=\"-7.8\" font-family=\"Times,serif\" font-size=\"14.00\">value = [0, 14]</text>\n",
       "</g>\n",
       "<!-- 5&#45;&gt;6 -->\n",
       "<g id=\"edge6\" class=\"edge\">\n",
       "<title>5&#45;&gt;6</title>\n",
       "<path fill=\"none\" stroke=\"black\" d=\"M184.18,-88.95C172,-79.43 158.73,-69.07 146.62,-59.62\"/>\n",
       "<polygon fill=\"black\" stroke=\"black\" points=\"148.49,-56.63 138.45,-53.24 144.18,-62.15 148.49,-56.63\"/>\n",
       "</g>\n",
       "<!-- 7 -->\n",
       "<g id=\"node8\" class=\"node\">\n",
       "<title>7</title>\n",
       "<polygon fill=\"#f0b68d\" stroke=\"black\" points=\"279.5,-53 173.5,-53 173.5,0 279.5,0 279.5,-53\"/>\n",
       "<text text-anchor=\"middle\" x=\"226.5\" y=\"-37.8\" font-family=\"Times,serif\" font-size=\"14.00\">entropy = 0.878</text>\n",
       "<text text-anchor=\"middle\" x=\"226.5\" y=\"-22.8\" font-family=\"Times,serif\" font-size=\"14.00\">samples = 74</text>\n",
       "<text text-anchor=\"middle\" x=\"226.5\" y=\"-7.8\" font-family=\"Times,serif\" font-size=\"14.00\">value = [52, 22]</text>\n",
       "</g>\n",
       "<!-- 5&#45;&gt;7 -->\n",
       "<g id=\"edge7\" class=\"edge\">\n",
       "<title>5&#45;&gt;7</title>\n",
       "<path fill=\"none\" stroke=\"black\" d=\"M226.5,-88.95C226.5,-80.72 226.5,-71.85 226.5,-63.48\"/>\n",
       "<polygon fill=\"black\" stroke=\"black\" points=\"230,-63.24 226.5,-53.24 223,-63.24 230,-63.24\"/>\n",
       "</g>\n",
       "<!-- 9 -->\n",
       "<g id=\"node10\" class=\"node\">\n",
       "<title>9</title>\n",
       "<polygon fill=\"#3fa0e6\" stroke=\"black\" points=\"571.5,-157 353.5,-157 353.5,-89 571.5,-89 571.5,-157\"/>\n",
       "<text text-anchor=\"middle\" x=\"462.5\" y=\"-141.8\" font-family=\"Times,serif\" font-size=\"14.00\">Total_Relationship_Count &lt;= 3.999</text>\n",
       "<text text-anchor=\"middle\" x=\"462.5\" y=\"-126.8\" font-family=\"Times,serif\" font-size=\"14.00\">entropy = 0.193</text>\n",
       "<text text-anchor=\"middle\" x=\"462.5\" y=\"-111.8\" font-family=\"Times,serif\" font-size=\"14.00\">samples = 2155</text>\n",
       "<text text-anchor=\"middle\" x=\"462.5\" y=\"-96.8\" font-family=\"Times,serif\" font-size=\"14.00\">value = [64, 2091]</text>\n",
       "</g>\n",
       "<!-- 8&#45;&gt;9 -->\n",
       "<g id=\"edge9\" class=\"edge\">\n",
       "<title>8&#45;&gt;9</title>\n",
       "<path fill=\"none\" stroke=\"black\" d=\"M540.16,-192.88C529.82,-183.71 518.48,-173.65 507.74,-164.12\"/>\n",
       "<polygon fill=\"black\" stroke=\"black\" points=\"509.85,-161.32 500.04,-157.3 505.2,-166.55 509.85,-161.32\"/>\n",
       "</g>\n",
       "<!-- 12 -->\n",
       "<g id=\"node13\" class=\"node\">\n",
       "<title>12</title>\n",
       "<polygon fill=\"#8bc6f0\" stroke=\"black\" points=\"793.5,-157 589.5,-157 589.5,-89 793.5,-89 793.5,-157\"/>\n",
       "<text text-anchor=\"middle\" x=\"691.5\" y=\"-141.8\" font-family=\"Times,serif\" font-size=\"14.00\">Total_Relationship_Count &lt;= 3.0</text>\n",
       "<text text-anchor=\"middle\" x=\"691.5\" y=\"-126.8\" font-family=\"Times,serif\" font-size=\"14.00\">entropy = 0.874</text>\n",
       "<text text-anchor=\"middle\" x=\"691.5\" y=\"-111.8\" font-family=\"Times,serif\" font-size=\"14.00\">samples = 160</text>\n",
       "<text text-anchor=\"middle\" x=\"691.5\" y=\"-96.8\" font-family=\"Times,serif\" font-size=\"14.00\">value = [47, 113]</text>\n",
       "</g>\n",
       "<!-- 8&#45;&gt;12 -->\n",
       "<g id=\"edge12\" class=\"edge\">\n",
       "<title>8&#45;&gt;12</title>\n",
       "<path fill=\"none\" stroke=\"black\" d=\"M614.51,-192.88C624.77,-183.71 636.01,-173.65 646.66,-164.12\"/>\n",
       "<polygon fill=\"black\" stroke=\"black\" points=\"649.16,-166.58 654.28,-157.3 644.5,-161.36 649.16,-166.58\"/>\n",
       "</g>\n",
       "<!-- 10 -->\n",
       "<g id=\"node11\" class=\"node\">\n",
       "<title>10</title>\n",
       "<polygon fill=\"#3b9ee5\" stroke=\"black\" points=\"418.5,-53 298.5,-53 298.5,0 418.5,0 418.5,-53\"/>\n",
       "<text text-anchor=\"middle\" x=\"358.5\" y=\"-37.8\" font-family=\"Times,serif\" font-size=\"14.00\">entropy = 0.069</text>\n",
       "<text text-anchor=\"middle\" x=\"358.5\" y=\"-22.8\" font-family=\"Times,serif\" font-size=\"14.00\">samples = 1465</text>\n",
       "<text text-anchor=\"middle\" x=\"358.5\" y=\"-7.8\" font-family=\"Times,serif\" font-size=\"14.00\">value = [12, 1453]</text>\n",
       "</g>\n",
       "<!-- 9&#45;&gt;10 -->\n",
       "<g id=\"edge10\" class=\"edge\">\n",
       "<title>9&#45;&gt;10</title>\n",
       "<path fill=\"none\" stroke=\"black\" d=\"M426.13,-88.95C415.86,-79.62 404.69,-69.47 394.45,-60.16\"/>\n",
       "<polygon fill=\"black\" stroke=\"black\" points=\"396.58,-57.37 386.82,-53.24 391.87,-62.55 396.58,-57.37\"/>\n",
       "</g>\n",
       "<!-- 11 -->\n",
       "<g id=\"node12\" class=\"node\">\n",
       "<title>11</title>\n",
       "<polygon fill=\"#49a5e7\" stroke=\"black\" points=\"550,-53 437,-53 437,0 550,0 550,-53\"/>\n",
       "<text text-anchor=\"middle\" x=\"493.5\" y=\"-37.8\" font-family=\"Times,serif\" font-size=\"14.00\">entropy = 0.386</text>\n",
       "<text text-anchor=\"middle\" x=\"493.5\" y=\"-22.8\" font-family=\"Times,serif\" font-size=\"14.00\">samples = 690</text>\n",
       "<text text-anchor=\"middle\" x=\"493.5\" y=\"-7.8\" font-family=\"Times,serif\" font-size=\"14.00\">value = [52, 638]</text>\n",
       "</g>\n",
       "<!-- 9&#45;&gt;11 -->\n",
       "<g id=\"edge11\" class=\"edge\">\n",
       "<title>9&#45;&gt;11</title>\n",
       "<path fill=\"none\" stroke=\"black\" d=\"M473.34,-88.95C476.1,-80.53 479.08,-71.45 481.88,-62.92\"/>\n",
       "<polygon fill=\"black\" stroke=\"black\" points=\"485.27,-63.83 485.06,-53.24 478.61,-61.65 485.27,-63.83\"/>\n",
       "</g>\n",
       "<!-- 13 -->\n",
       "<g id=\"node14\" class=\"node\">\n",
       "<title>13</title>\n",
       "<polygon fill=\"#399de5\" stroke=\"black\" points=\"667,-53 568,-53 568,0 667,0 667,-53\"/>\n",
       "<text text-anchor=\"middle\" x=\"617.5\" y=\"-37.8\" font-family=\"Times,serif\" font-size=\"14.00\">entropy = 0.0</text>\n",
       "<text text-anchor=\"middle\" x=\"617.5\" y=\"-22.8\" font-family=\"Times,serif\" font-size=\"14.00\">samples = 53</text>\n",
       "<text text-anchor=\"middle\" x=\"617.5\" y=\"-7.8\" font-family=\"Times,serif\" font-size=\"14.00\">value = [0, 53]</text>\n",
       "</g>\n",
       "<!-- 12&#45;&gt;13 -->\n",
       "<g id=\"edge13\" class=\"edge\">\n",
       "<title>12&#45;&gt;13</title>\n",
       "<path fill=\"none\" stroke=\"black\" d=\"M665.62,-88.95C658.6,-79.98 650.99,-70.27 643.94,-61.26\"/>\n",
       "<polygon fill=\"black\" stroke=\"black\" points=\"646.57,-58.95 637.65,-53.24 641.06,-63.27 646.57,-58.95\"/>\n",
       "</g>\n",
       "<!-- 14 -->\n",
       "<g id=\"node15\" class=\"node\">\n",
       "<title>14</title>\n",
       "<polygon fill=\"#d4eaf9\" stroke=\"black\" points=\"791.5,-53 685.5,-53 685.5,0 791.5,0 791.5,-53\"/>\n",
       "<text text-anchor=\"middle\" x=\"738.5\" y=\"-37.8\" font-family=\"Times,serif\" font-size=\"14.00\">entropy = 0.989</text>\n",
       "<text text-anchor=\"middle\" x=\"738.5\" y=\"-22.8\" font-family=\"Times,serif\" font-size=\"14.00\">samples = 107</text>\n",
       "<text text-anchor=\"middle\" x=\"738.5\" y=\"-7.8\" font-family=\"Times,serif\" font-size=\"14.00\">value = [47, 60]</text>\n",
       "</g>\n",
       "<!-- 12&#45;&gt;14 -->\n",
       "<g id=\"edge14\" class=\"edge\">\n",
       "<title>12&#45;&gt;14</title>\n",
       "<path fill=\"none\" stroke=\"black\" d=\"M707.94,-88.95C712.22,-80.35 716.84,-71.06 721.16,-62.37\"/>\n",
       "<polygon fill=\"black\" stroke=\"black\" points=\"724.38,-63.75 725.7,-53.24 718.11,-60.63 724.38,-63.75\"/>\n",
       "</g>\n",
       "<!-- 16 -->\n",
       "<g id=\"node17\" class=\"node\">\n",
       "<title>16</title>\n",
       "<polygon fill=\"#44a2e6\" stroke=\"black\" points=\"1169.5,-261 959.5,-261 959.5,-193 1169.5,-193 1169.5,-261\"/>\n",
       "<text text-anchor=\"middle\" x=\"1064.5\" y=\"-245.8\" font-family=\"Times,serif\" font-size=\"14.00\">Total_Amt_Chng_Q4_Q1 &lt;= 1.05</text>\n",
       "<text text-anchor=\"middle\" x=\"1064.5\" y=\"-230.8\" font-family=\"Times,serif\" font-size=\"14.00\">entropy = 0.29</text>\n",
       "<text text-anchor=\"middle\" x=\"1064.5\" y=\"-215.8\" font-family=\"Times,serif\" font-size=\"14.00\">samples = 491</text>\n",
       "<text text-anchor=\"middle\" x=\"1064.5\" y=\"-200.8\" font-family=\"Times,serif\" font-size=\"14.00\">value = [25, 466]</text>\n",
       "</g>\n",
       "<!-- 15&#45;&gt;16 -->\n",
       "<g id=\"edge16\" class=\"edge\">\n",
       "<title>15&#45;&gt;16</title>\n",
       "<path fill=\"none\" stroke=\"black\" d=\"M1137.44,-296.88C1127.82,-287.8 1117.28,-277.85 1107.28,-268.4\"/>\n",
       "<polygon fill=\"black\" stroke=\"black\" points=\"1109.43,-265.62 1099.76,-261.3 1104.63,-270.71 1109.43,-265.62\"/>\n",
       "</g>\n",
       "<!-- 21 -->\n",
       "<g id=\"node22\" class=\"node\">\n",
       "<title>21</title>\n",
       "<polygon fill=\"#f9e2d2\" stroke=\"black\" points=\"1371.5,-261 1187.5,-261 1187.5,-193 1371.5,-193 1371.5,-261\"/>\n",
       "<text text-anchor=\"middle\" x=\"1279.5\" y=\"-245.8\" font-family=\"Times,serif\" font-size=\"14.00\">Total_Trans_Amt &lt;= 2010.09</text>\n",
       "<text text-anchor=\"middle\" x=\"1279.5\" y=\"-230.8\" font-family=\"Times,serif\" font-size=\"14.00\">entropy = 0.988</text>\n",
       "<text text-anchor=\"middle\" x=\"1279.5\" y=\"-215.8\" font-family=\"Times,serif\" font-size=\"14.00\">samples = 1725</text>\n",
       "<text text-anchor=\"middle\" x=\"1279.5\" y=\"-200.8\" font-family=\"Times,serif\" font-size=\"14.00\">value = [974, 751]</text>\n",
       "</g>\n",
       "<!-- 15&#45;&gt;21 -->\n",
       "<g id=\"edge21\" class=\"edge\">\n",
       "<title>15&#45;&gt;21</title>\n",
       "<path fill=\"none\" stroke=\"black\" d=\"M1207.24,-296.88C1216.77,-287.8 1227.21,-277.85 1237.12,-268.4\"/>\n",
       "<polygon fill=\"black\" stroke=\"black\" points=\"1239.75,-270.73 1244.57,-261.3 1234.92,-265.67 1239.75,-270.73\"/>\n",
       "</g>\n",
       "<!-- 17 -->\n",
       "<g id=\"node18\" class=\"node\">\n",
       "<title>17</title>\n",
       "<polygon fill=\"#41a1e6\" stroke=\"black\" points=\"1029.5,-157 811.5,-157 811.5,-89 1029.5,-89 1029.5,-157\"/>\n",
       "<text text-anchor=\"middle\" x=\"920.5\" y=\"-141.8\" font-family=\"Times,serif\" font-size=\"14.00\">Total_Relationship_Count &lt;= 2.001</text>\n",
       "<text text-anchor=\"middle\" x=\"920.5\" y=\"-126.8\" font-family=\"Times,serif\" font-size=\"14.00\">entropy = 0.238</text>\n",
       "<text text-anchor=\"middle\" x=\"920.5\" y=\"-111.8\" font-family=\"Times,serif\" font-size=\"14.00\">samples = 485</text>\n",
       "<text text-anchor=\"middle\" x=\"920.5\" y=\"-96.8\" font-family=\"Times,serif\" font-size=\"14.00\">value = [19, 466]</text>\n",
       "</g>\n",
       "<!-- 16&#45;&gt;17 -->\n",
       "<g id=\"edge17\" class=\"edge\">\n",
       "<title>16&#45;&gt;17</title>\n",
       "<path fill=\"none\" stroke=\"black\" d=\"M1017.75,-192.88C1004.42,-183.44 989.77,-173.06 975.97,-163.29\"/>\n",
       "<polygon fill=\"black\" stroke=\"black\" points=\"977.69,-160.22 967.51,-157.3 973.65,-165.94 977.69,-160.22\"/>\n",
       "</g>\n",
       "<!-- 20 -->\n",
       "<g id=\"node21\" class=\"node\">\n",
       "<title>20</title>\n",
       "<polygon fill=\"#e58139\" stroke=\"black\" points=\"1139.5,-149.5 1047.5,-149.5 1047.5,-96.5 1139.5,-96.5 1139.5,-149.5\"/>\n",
       "<text text-anchor=\"middle\" x=\"1093.5\" y=\"-134.3\" font-family=\"Times,serif\" font-size=\"14.00\">entropy = 0.0</text>\n",
       "<text text-anchor=\"middle\" x=\"1093.5\" y=\"-119.3\" font-family=\"Times,serif\" font-size=\"14.00\">samples = 6</text>\n",
       "<text text-anchor=\"middle\" x=\"1093.5\" y=\"-104.3\" font-family=\"Times,serif\" font-size=\"14.00\">value = [6, 0]</text>\n",
       "</g>\n",
       "<!-- 16&#45;&gt;20 -->\n",
       "<g id=\"edge20\" class=\"edge\">\n",
       "<title>16&#45;&gt;20</title>\n",
       "<path fill=\"none\" stroke=\"black\" d=\"M1073.92,-192.88C1076.98,-182.11 1080.39,-170.11 1083.5,-159.18\"/>\n",
       "<polygon fill=\"black\" stroke=\"black\" points=\"1086.88,-160.1 1086.24,-149.52 1080.14,-158.18 1086.88,-160.1\"/>\n",
       "</g>\n",
       "<!-- 18 -->\n",
       "<g id=\"node19\" class=\"node\">\n",
       "<title>18</title>\n",
       "<polygon fill=\"#48a4e7\" stroke=\"black\" points=\"923,-53 810,-53 810,0 923,0 923,-53\"/>\n",
       "<text text-anchor=\"middle\" x=\"866.5\" y=\"-37.8\" font-family=\"Times,serif\" font-size=\"14.00\">entropy = 0.367</text>\n",
       "<text text-anchor=\"middle\" x=\"866.5\" y=\"-22.8\" font-family=\"Times,serif\" font-size=\"14.00\">samples = 270</text>\n",
       "<text text-anchor=\"middle\" x=\"866.5\" y=\"-7.8\" font-family=\"Times,serif\" font-size=\"14.00\">value = [19, 251]</text>\n",
       "</g>\n",
       "<!-- 17&#45;&gt;18 -->\n",
       "<g id=\"edge18\" class=\"edge\">\n",
       "<title>17&#45;&gt;18</title>\n",
       "<path fill=\"none\" stroke=\"black\" d=\"M901.61,-88.95C896.65,-80.26 891.28,-70.86 886.27,-62.09\"/>\n",
       "<polygon fill=\"black\" stroke=\"black\" points=\"889.21,-60.18 881.21,-53.24 883.13,-63.66 889.21,-60.18\"/>\n",
       "</g>\n",
       "<!-- 19 -->\n",
       "<g id=\"node20\" class=\"node\">\n",
       "<title>19</title>\n",
       "<polygon fill=\"#399de5\" stroke=\"black\" points=\"1047.5,-53 941.5,-53 941.5,0 1047.5,0 1047.5,-53\"/>\n",
       "<text text-anchor=\"middle\" x=\"994.5\" y=\"-37.8\" font-family=\"Times,serif\" font-size=\"14.00\">entropy = 0.0</text>\n",
       "<text text-anchor=\"middle\" x=\"994.5\" y=\"-22.8\" font-family=\"Times,serif\" font-size=\"14.00\">samples = 215</text>\n",
       "<text text-anchor=\"middle\" x=\"994.5\" y=\"-7.8\" font-family=\"Times,serif\" font-size=\"14.00\">value = [0, 215]</text>\n",
       "</g>\n",
       "<!-- 17&#45;&gt;19 -->\n",
       "<g id=\"edge19\" class=\"edge\">\n",
       "<title>17&#45;&gt;19</title>\n",
       "<path fill=\"none\" stroke=\"black\" d=\"M946.38,-88.95C953.4,-79.98 961.01,-70.27 968.06,-61.26\"/>\n",
       "<polygon fill=\"black\" stroke=\"black\" points=\"970.94,-63.27 974.35,-53.24 965.43,-58.95 970.94,-63.27\"/>\n",
       "</g>\n",
       "<!-- 22 -->\n",
       "<g id=\"node23\" class=\"node\">\n",
       "<title>22</title>\n",
       "<polygon fill=\"#eca36f\" stroke=\"black\" points=\"1341.5,-157 1157.5,-157 1157.5,-89 1341.5,-89 1341.5,-157\"/>\n",
       "<text text-anchor=\"middle\" x=\"1249.5\" y=\"-141.8\" font-family=\"Times,serif\" font-size=\"14.00\">Total_Trans_Amt &lt;= 924.709</text>\n",
       "<text text-anchor=\"middle\" x=\"1249.5\" y=\"-126.8\" font-family=\"Times,serif\" font-size=\"14.00\">entropy = 0.749</text>\n",
       "<text text-anchor=\"middle\" x=\"1249.5\" y=\"-111.8\" font-family=\"Times,serif\" font-size=\"14.00\">samples = 959</text>\n",
       "<text text-anchor=\"middle\" x=\"1249.5\" y=\"-96.8\" font-family=\"Times,serif\" font-size=\"14.00\">value = [754, 205]</text>\n",
       "</g>\n",
       "<!-- 21&#45;&gt;22 -->\n",
       "<g id=\"edge22\" class=\"edge\">\n",
       "<title>21&#45;&gt;22</title>\n",
       "<path fill=\"none\" stroke=\"black\" d=\"M1269.76,-192.88C1267.32,-184.6 1264.68,-175.6 1262.12,-166.91\"/>\n",
       "<polygon fill=\"black\" stroke=\"black\" points=\"1265.47,-165.91 1259.29,-157.3 1258.76,-167.88 1265.47,-165.91\"/>\n",
       "</g>\n",
       "<!-- 25 -->\n",
       "<g id=\"node26\" class=\"node\">\n",
       "<title>25</title>\n",
       "<polygon fill=\"#89c4ef\" stroke=\"black\" points=\"1565,-157 1360,-157 1360,-89 1565,-89 1565,-157\"/>\n",
       "<text text-anchor=\"middle\" x=\"1462.5\" y=\"-141.8\" font-family=\"Times,serif\" font-size=\"14.00\">Total_Ct_Chng_Q4_Q1 &lt;= 0.773</text>\n",
       "<text text-anchor=\"middle\" x=\"1462.5\" y=\"-126.8\" font-family=\"Times,serif\" font-size=\"14.00\">entropy = 0.865</text>\n",
       "<text text-anchor=\"middle\" x=\"1462.5\" y=\"-111.8\" font-family=\"Times,serif\" font-size=\"14.00\">samples = 766</text>\n",
       "<text text-anchor=\"middle\" x=\"1462.5\" y=\"-96.8\" font-family=\"Times,serif\" font-size=\"14.00\">value = [220, 546]</text>\n",
       "</g>\n",
       "<!-- 21&#45;&gt;25 -->\n",
       "<g id=\"edge25\" class=\"edge\">\n",
       "<title>21&#45;&gt;25</title>\n",
       "<path fill=\"none\" stroke=\"black\" d=\"M1338.91,-192.88C1356.58,-183.04 1376.08,-172.17 1394.26,-162.03\"/>\n",
       "<polygon fill=\"black\" stroke=\"black\" points=\"1396.04,-165.05 1403.07,-157.12 1392.63,-158.94 1396.04,-165.05\"/>\n",
       "</g>\n",
       "<!-- 23 -->\n",
       "<g id=\"node24\" class=\"node\">\n",
       "<title>23</title>\n",
       "<polygon fill=\"#3e9fe6\" stroke=\"black\" points=\"1171.5,-53 1065.5,-53 1065.5,0 1171.5,0 1171.5,-53\"/>\n",
       "<text text-anchor=\"middle\" x=\"1118.5\" y=\"-37.8\" font-family=\"Times,serif\" font-size=\"14.00\">entropy = 0.156</text>\n",
       "<text text-anchor=\"middle\" x=\"1118.5\" y=\"-22.8\" font-family=\"Times,serif\" font-size=\"14.00\">samples = 44</text>\n",
       "<text text-anchor=\"middle\" x=\"1118.5\" y=\"-7.8\" font-family=\"Times,serif\" font-size=\"14.00\">value = [1, 43]</text>\n",
       "</g>\n",
       "<!-- 22&#45;&gt;23 -->\n",
       "<g id=\"edge23\" class=\"edge\">\n",
       "<title>22&#45;&gt;23</title>\n",
       "<path fill=\"none\" stroke=\"black\" d=\"M1203.68,-88.95C1190.37,-79.34 1175.86,-68.87 1162.64,-59.34\"/>\n",
       "<polygon fill=\"black\" stroke=\"black\" points=\"1164.34,-56.25 1154.18,-53.24 1160.24,-61.93 1164.34,-56.25\"/>\n",
       "</g>\n",
       "<!-- 24 -->\n",
       "<g id=\"node25\" class=\"node\">\n",
       "<title>24</title>\n",
       "<polygon fill=\"#eb9c64\" stroke=\"black\" points=\"1309.5,-53 1189.5,-53 1189.5,0 1309.5,0 1309.5,-53\"/>\n",
       "<text text-anchor=\"middle\" x=\"1249.5\" y=\"-37.8\" font-family=\"Times,serif\" font-size=\"14.00\">entropy = 0.674</text>\n",
       "<text text-anchor=\"middle\" x=\"1249.5\" y=\"-22.8\" font-family=\"Times,serif\" font-size=\"14.00\">samples = 915</text>\n",
       "<text text-anchor=\"middle\" x=\"1249.5\" y=\"-7.8\" font-family=\"Times,serif\" font-size=\"14.00\">value = [753, 162]</text>\n",
       "</g>\n",
       "<!-- 22&#45;&gt;24 -->\n",
       "<g id=\"edge24\" class=\"edge\">\n",
       "<title>22&#45;&gt;24</title>\n",
       "<path fill=\"none\" stroke=\"black\" d=\"M1249.5,-88.95C1249.5,-80.72 1249.5,-71.85 1249.5,-63.48\"/>\n",
       "<polygon fill=\"black\" stroke=\"black\" points=\"1253,-63.24 1249.5,-53.24 1246,-63.24 1253,-63.24\"/>\n",
       "</g>\n",
       "<!-- 26 -->\n",
       "<g id=\"node27\" class=\"node\">\n",
       "<title>26</title>\n",
       "<polygon fill=\"#64b2eb\" stroke=\"black\" points=\"1447.5,-53 1327.5,-53 1327.5,0 1447.5,0 1447.5,-53\"/>\n",
       "<text text-anchor=\"middle\" x=\"1387.5\" y=\"-37.8\" font-family=\"Times,serif\" font-size=\"14.00\">entropy = 0.677</text>\n",
       "<text text-anchor=\"middle\" x=\"1387.5\" y=\"-22.8\" font-family=\"Times,serif\" font-size=\"14.00\">samples = 639</text>\n",
       "<text text-anchor=\"middle\" x=\"1387.5\" y=\"-7.8\" font-family=\"Times,serif\" font-size=\"14.00\">value = [114, 525]</text>\n",
       "</g>\n",
       "<!-- 25&#45;&gt;26 -->\n",
       "<g id=\"edge26\" class=\"edge\">\n",
       "<title>25&#45;&gt;26</title>\n",
       "<path fill=\"none\" stroke=\"black\" d=\"M1436.27,-88.95C1429.15,-79.98 1421.44,-70.27 1414.3,-61.26\"/>\n",
       "<polygon fill=\"black\" stroke=\"black\" points=\"1416.88,-58.89 1407.93,-53.24 1411.4,-63.25 1416.88,-58.89\"/>\n",
       "</g>\n",
       "<!-- 27 -->\n",
       "<g id=\"node28\" class=\"node\">\n",
       "<title>27</title>\n",
       "<polygon fill=\"#ea9a60\" stroke=\"black\" points=\"1579,-53 1466,-53 1466,0 1579,0 1579,-53\"/>\n",
       "<text text-anchor=\"middle\" x=\"1522.5\" y=\"-37.8\" font-family=\"Times,serif\" font-size=\"14.00\">entropy = 0.647</text>\n",
       "<text text-anchor=\"middle\" x=\"1522.5\" y=\"-22.8\" font-family=\"Times,serif\" font-size=\"14.00\">samples = 127</text>\n",
       "<text text-anchor=\"middle\" x=\"1522.5\" y=\"-7.8\" font-family=\"Times,serif\" font-size=\"14.00\">value = [106, 21]</text>\n",
       "</g>\n",
       "<!-- 25&#45;&gt;27 -->\n",
       "<g id=\"edge27\" class=\"edge\">\n",
       "<title>25&#45;&gt;27</title>\n",
       "<path fill=\"none\" stroke=\"black\" d=\"M1483.49,-88.95C1489.06,-80.17 1495.09,-70.66 1500.71,-61.82\"/>\n",
       "<polygon fill=\"black\" stroke=\"black\" points=\"1503.75,-63.55 1506.16,-53.24 1497.84,-59.8 1503.75,-63.55\"/>\n",
       "</g>\n",
       "<!-- 29 -->\n",
       "<g id=\"node30\" class=\"node\">\n",
       "<title>29</title>\n",
       "<polygon fill=\"#e68743\" stroke=\"black\" points=\"2126,-365 1961,-365 1961,-297 2126,-297 2126,-365\"/>\n",
       "<text text-anchor=\"middle\" x=\"2043.5\" y=\"-349.8\" font-family=\"Times,serif\" font-size=\"14.00\">Total_Trans_Ct &lt;= 64.981</text>\n",
       "<text text-anchor=\"middle\" x=\"2043.5\" y=\"-334.8\" font-family=\"Times,serif\" font-size=\"14.00\">entropy = 0.269</text>\n",
       "<text text-anchor=\"middle\" x=\"2043.5\" y=\"-319.8\" font-family=\"Times,serif\" font-size=\"14.00\">samples = 2418</text>\n",
       "<text text-anchor=\"middle\" x=\"2043.5\" y=\"-304.8\" font-family=\"Times,serif\" font-size=\"14.00\">value = [2307, 111]</text>\n",
       "</g>\n",
       "<!-- 28&#45;&gt;29 -->\n",
       "<g id=\"edge29\" class=\"edge\">\n",
       "<title>28&#45;&gt;29</title>\n",
       "<path fill=\"none\" stroke=\"black\" d=\"M2043.5,-400.88C2043.5,-392.78 2043.5,-383.98 2043.5,-375.47\"/>\n",
       "<polygon fill=\"black\" stroke=\"black\" points=\"2047,-375.3 2043.5,-365.3 2040,-375.3 2047,-375.3\"/>\n",
       "</g>\n",
       "<!-- 42 -->\n",
       "<g id=\"node43\" class=\"node\">\n",
       "<title>42</title>\n",
       "<polygon fill=\"#fbe9dd\" stroke=\"black\" points=\"2632,-365 2467,-365 2467,-297 2632,-297 2632,-365\"/>\n",
       "<text text-anchor=\"middle\" x=\"2549.5\" y=\"-349.8\" font-family=\"Times,serif\" font-size=\"14.00\">Total_Trans_Ct &lt;= 79.943</text>\n",
       "<text text-anchor=\"middle\" x=\"2549.5\" y=\"-334.8\" font-family=\"Times,serif\" font-size=\"14.00\">entropy = 0.994</text>\n",
       "<text text-anchor=\"middle\" x=\"2549.5\" y=\"-319.8\" font-family=\"Times,serif\" font-size=\"14.00\">samples = 1288</text>\n",
       "<text text-anchor=\"middle\" x=\"2549.5\" y=\"-304.8\" font-family=\"Times,serif\" font-size=\"14.00\">value = [705, 583]</text>\n",
       "</g>\n",
       "<!-- 28&#45;&gt;42 -->\n",
       "<g id=\"edge42\" class=\"edge\">\n",
       "<title>28&#45;&gt;42</title>\n",
       "<path fill=\"none\" stroke=\"black\" d=\"M2139.27,-414.69C2230.4,-396.32 2366.63,-368.86 2456.75,-350.7\"/>\n",
       "<polygon fill=\"black\" stroke=\"black\" points=\"2457.57,-354.1 2466.69,-348.69 2456.19,-347.24 2457.57,-354.1\"/>\n",
       "</g>\n",
       "<!-- 30 -->\n",
       "<g id=\"node31\" class=\"node\">\n",
       "<title>30</title>\n",
       "<polygon fill=\"#eb9d65\" stroke=\"black\" points=\"2021,-261 1844,-261 1844,-193 2021,-193 2021,-261\"/>\n",
       "<text text-anchor=\"middle\" x=\"1932.5\" y=\"-245.8\" font-family=\"Times,serif\" font-size=\"14.00\">Total_Trans_Amt &lt;= 4502.0</text>\n",
       "<text text-anchor=\"middle\" x=\"1932.5\" y=\"-230.8\" font-family=\"Times,serif\" font-size=\"14.00\">entropy = 0.684</text>\n",
       "<text text-anchor=\"middle\" x=\"1932.5\" y=\"-215.8\" font-family=\"Times,serif\" font-size=\"14.00\">samples = 556</text>\n",
       "<text text-anchor=\"middle\" x=\"1932.5\" y=\"-200.8\" font-family=\"Times,serif\" font-size=\"14.00\">value = [455, 101]</text>\n",
       "</g>\n",
       "<!-- 29&#45;&gt;30 -->\n",
       "<g id=\"edge30\" class=\"edge\">\n",
       "<title>29&#45;&gt;30</title>\n",
       "<path fill=\"none\" stroke=\"black\" d=\"M2007.46,-296.88C1997.48,-287.71 1986.53,-277.65 1976.16,-268.12\"/>\n",
       "<polygon fill=\"black\" stroke=\"black\" points=\"1978.47,-265.49 1968.74,-261.3 1973.73,-270.64 1978.47,-265.49\"/>\n",
       "</g>\n",
       "<!-- 37 -->\n",
       "<g id=\"node38\" class=\"node\">\n",
       "<title>37</title>\n",
       "<polygon fill=\"#e5823a\" stroke=\"black\" points=\"2255.5,-261 2053.5,-261 2053.5,-193 2255.5,-193 2255.5,-261\"/>\n",
       "<text text-anchor=\"middle\" x=\"2154.5\" y=\"-245.8\" font-family=\"Times,serif\" font-size=\"14.00\">C(Card_Category)[T.4] &lt;= 0.388</text>\n",
       "<text text-anchor=\"middle\" x=\"2154.5\" y=\"-230.8\" font-family=\"Times,serif\" font-size=\"14.00\">entropy = 0.048</text>\n",
       "<text text-anchor=\"middle\" x=\"2154.5\" y=\"-215.8\" font-family=\"Times,serif\" font-size=\"14.00\">samples = 1862</text>\n",
       "<text text-anchor=\"middle\" x=\"2154.5\" y=\"-200.8\" font-family=\"Times,serif\" font-size=\"14.00\">value = [1852, 10]</text>\n",
       "</g>\n",
       "<!-- 29&#45;&gt;37 -->\n",
       "<g id=\"edge37\" class=\"edge\">\n",
       "<title>29&#45;&gt;37</title>\n",
       "<path fill=\"none\" stroke=\"black\" d=\"M2079.54,-296.88C2089.52,-287.71 2100.47,-277.65 2110.84,-268.12\"/>\n",
       "<polygon fill=\"black\" stroke=\"black\" points=\"2113.27,-270.64 2118.26,-261.3 2108.53,-265.49 2113.27,-270.64\"/>\n",
       "</g>\n",
       "<!-- 31 -->\n",
       "<g id=\"node32\" class=\"node\">\n",
       "<title>31</title>\n",
       "<polygon fill=\"#e88e4e\" stroke=\"black\" points=\"1806,-157 1641,-157 1641,-89 1806,-89 1806,-157\"/>\n",
       "<text text-anchor=\"middle\" x=\"1723.5\" y=\"-141.8\" font-family=\"Times,serif\" font-size=\"14.00\">Credit_Limit &lt;= 1712.455</text>\n",
       "<text text-anchor=\"middle\" x=\"1723.5\" y=\"-126.8\" font-family=\"Times,serif\" font-size=\"14.00\">entropy = 0.455</text>\n",
       "<text text-anchor=\"middle\" x=\"1723.5\" y=\"-111.8\" font-family=\"Times,serif\" font-size=\"14.00\">samples = 471</text>\n",
       "<text text-anchor=\"middle\" x=\"1723.5\" y=\"-96.8\" font-family=\"Times,serif\" font-size=\"14.00\">value = [426, 45]</text>\n",
       "</g>\n",
       "<!-- 30&#45;&gt;31 -->\n",
       "<g id=\"edge31\" class=\"edge\">\n",
       "<title>30&#45;&gt;31</title>\n",
       "<path fill=\"none\" stroke=\"black\" d=\"M1864.64,-192.88C1844.19,-182.9 1821.59,-171.87 1800.58,-161.62\"/>\n",
       "<polygon fill=\"black\" stroke=\"black\" points=\"1801.9,-158.37 1791.37,-157.12 1798.83,-164.66 1801.9,-158.37\"/>\n",
       "</g>\n",
       "<!-- 34 -->\n",
       "<g id=\"node35\" class=\"node\">\n",
       "<title>34</title>\n",
       "<polygon fill=\"#a0d0f2\" stroke=\"black\" points=\"2041,-157 1824,-157 1824,-89 2041,-89 2041,-157\"/>\n",
       "<text text-anchor=\"middle\" x=\"1932.5\" y=\"-141.8\" font-family=\"Times,serif\" font-size=\"14.00\">Total_Amt_Chng_Q4_Q1 &lt;= 0.889</text>\n",
       "<text text-anchor=\"middle\" x=\"1932.5\" y=\"-126.8\" font-family=\"Times,serif\" font-size=\"14.00\">entropy = 0.926</text>\n",
       "<text text-anchor=\"middle\" x=\"1932.5\" y=\"-111.8\" font-family=\"Times,serif\" font-size=\"14.00\">samples = 85</text>\n",
       "<text text-anchor=\"middle\" x=\"1932.5\" y=\"-96.8\" font-family=\"Times,serif\" font-size=\"14.00\">value = [29, 56]</text>\n",
       "</g>\n",
       "<!-- 30&#45;&gt;34 -->\n",
       "<g id=\"edge34\" class=\"edge\">\n",
       "<title>30&#45;&gt;34</title>\n",
       "<path fill=\"none\" stroke=\"black\" d=\"M1932.5,-192.88C1932.5,-184.78 1932.5,-175.98 1932.5,-167.47\"/>\n",
       "<polygon fill=\"black\" stroke=\"black\" points=\"1936,-167.3 1932.5,-157.3 1929,-167.3 1936,-167.3\"/>\n",
       "</g>\n",
       "<!-- 32 -->\n",
       "<g id=\"node33\" class=\"node\">\n",
       "<title>32</title>\n",
       "<polygon fill=\"#f6fbfe\" stroke=\"black\" points=\"1703.5,-53 1597.5,-53 1597.5,0 1703.5,0 1703.5,-53\"/>\n",
       "<text text-anchor=\"middle\" x=\"1650.5\" y=\"-37.8\" font-family=\"Times,serif\" font-size=\"14.00\">entropy = 1.0</text>\n",
       "<text text-anchor=\"middle\" x=\"1650.5\" y=\"-22.8\" font-family=\"Times,serif\" font-size=\"14.00\">samples = 45</text>\n",
       "<text text-anchor=\"middle\" x=\"1650.5\" y=\"-7.8\" font-family=\"Times,serif\" font-size=\"14.00\">value = [22, 23]</text>\n",
       "</g>\n",
       "<!-- 31&#45;&gt;32 -->\n",
       "<g id=\"edge32\" class=\"edge\">\n",
       "<title>31&#45;&gt;32</title>\n",
       "<path fill=\"none\" stroke=\"black\" d=\"M1697.97,-88.95C1691.04,-79.98 1683.54,-70.27 1676.58,-61.26\"/>\n",
       "<polygon fill=\"black\" stroke=\"black\" points=\"1679.26,-59.01 1670.38,-53.24 1673.72,-63.29 1679.26,-59.01\"/>\n",
       "</g>\n",
       "<!-- 33 -->\n",
       "<g id=\"node34\" class=\"node\">\n",
       "<title>33</title>\n",
       "<polygon fill=\"#e68844\" stroke=\"black\" points=\"1835,-53 1722,-53 1722,0 1835,0 1835,-53\"/>\n",
       "<text text-anchor=\"middle\" x=\"1778.5\" y=\"-37.8\" font-family=\"Times,serif\" font-size=\"14.00\">entropy = 0.293</text>\n",
       "<text text-anchor=\"middle\" x=\"1778.5\" y=\"-22.8\" font-family=\"Times,serif\" font-size=\"14.00\">samples = 426</text>\n",
       "<text text-anchor=\"middle\" x=\"1778.5\" y=\"-7.8\" font-family=\"Times,serif\" font-size=\"14.00\">value = [404, 22]</text>\n",
       "</g>\n",
       "<!-- 31&#45;&gt;33 -->\n",
       "<g id=\"edge33\" class=\"edge\">\n",
       "<title>31&#45;&gt;33</title>\n",
       "<path fill=\"none\" stroke=\"black\" d=\"M1742.74,-88.95C1747.79,-80.26 1753.26,-70.86 1758.37,-62.09\"/>\n",
       "<polygon fill=\"black\" stroke=\"black\" points=\"1761.52,-63.64 1763.52,-53.24 1755.47,-60.12 1761.52,-63.64\"/>\n",
       "</g>\n",
       "<!-- 35 -->\n",
       "<g id=\"node36\" class=\"node\">\n",
       "<title>35</title>\n",
       "<polygon fill=\"#f2c09c\" stroke=\"black\" points=\"1959.5,-53 1853.5,-53 1853.5,0 1959.5,0 1959.5,-53\"/>\n",
       "<text text-anchor=\"middle\" x=\"1906.5\" y=\"-37.8\" font-family=\"Times,serif\" font-size=\"14.00\">entropy = 0.918</text>\n",
       "<text text-anchor=\"middle\" x=\"1906.5\" y=\"-22.8\" font-family=\"Times,serif\" font-size=\"14.00\">samples = 39</text>\n",
       "<text text-anchor=\"middle\" x=\"1906.5\" y=\"-7.8\" font-family=\"Times,serif\" font-size=\"14.00\">value = [26, 13]</text>\n",
       "</g>\n",
       "<!-- 34&#45;&gt;35 -->\n",
       "<g id=\"edge35\" class=\"edge\">\n",
       "<title>34&#45;&gt;35</title>\n",
       "<path fill=\"none\" stroke=\"black\" d=\"M1923.41,-88.95C1921.09,-80.53 1918.59,-71.45 1916.25,-62.92\"/>\n",
       "<polygon fill=\"black\" stroke=\"black\" points=\"1919.61,-61.95 1913.58,-53.24 1912.86,-63.81 1919.61,-61.95\"/>\n",
       "</g>\n",
       "<!-- 36 -->\n",
       "<g id=\"node37\" class=\"node\">\n",
       "<title>36</title>\n",
       "<polygon fill=\"#47a4e7\" stroke=\"black\" points=\"2083.5,-53 1977.5,-53 1977.5,0 2083.5,0 2083.5,-53\"/>\n",
       "<text text-anchor=\"middle\" x=\"2030.5\" y=\"-37.8\" font-family=\"Times,serif\" font-size=\"14.00\">entropy = 0.348</text>\n",
       "<text text-anchor=\"middle\" x=\"2030.5\" y=\"-22.8\" font-family=\"Times,serif\" font-size=\"14.00\">samples = 46</text>\n",
       "<text text-anchor=\"middle\" x=\"2030.5\" y=\"-7.8\" font-family=\"Times,serif\" font-size=\"14.00\">value = [3, 43]</text>\n",
       "</g>\n",
       "<!-- 34&#45;&gt;36 -->\n",
       "<g id=\"edge36\" class=\"edge\">\n",
       "<title>34&#45;&gt;36</title>\n",
       "<path fill=\"none\" stroke=\"black\" d=\"M1966.78,-88.95C1976.36,-79.71 1986.77,-69.67 1996.34,-60.44\"/>\n",
       "<polygon fill=\"black\" stroke=\"black\" points=\"1999.04,-62.7 2003.81,-53.24 1994.18,-57.66 1999.04,-62.7\"/>\n",
       "</g>\n",
       "<!-- 38 -->\n",
       "<g id=\"node39\" class=\"node\">\n",
       "<title>38</title>\n",
       "<polygon fill=\"#e5813a\" stroke=\"black\" points=\"2250,-157 2059,-157 2059,-89 2250,-89 2250,-157\"/>\n",
       "<text text-anchor=\"middle\" x=\"2154.5\" y=\"-141.8\" font-family=\"Times,serif\" font-size=\"14.00\">Total_Trans_Amt &lt;= 2627.489</text>\n",
       "<text text-anchor=\"middle\" x=\"2154.5\" y=\"-126.8\" font-family=\"Times,serif\" font-size=\"14.00\">entropy = 0.031</text>\n",
       "<text text-anchor=\"middle\" x=\"2154.5\" y=\"-111.8\" font-family=\"Times,serif\" font-size=\"14.00\">samples = 1858</text>\n",
       "<text text-anchor=\"middle\" x=\"2154.5\" y=\"-96.8\" font-family=\"Times,serif\" font-size=\"14.00\">value = [1852, 6]</text>\n",
       "</g>\n",
       "<!-- 37&#45;&gt;38 -->\n",
       "<g id=\"edge38\" class=\"edge\">\n",
       "<title>37&#45;&gt;38</title>\n",
       "<path fill=\"none\" stroke=\"black\" d=\"M2154.5,-192.88C2154.5,-184.78 2154.5,-175.98 2154.5,-167.47\"/>\n",
       "<polygon fill=\"black\" stroke=\"black\" points=\"2158,-167.3 2154.5,-157.3 2151,-167.3 2158,-167.3\"/>\n",
       "</g>\n",
       "<!-- 41 -->\n",
       "<g id=\"node42\" class=\"node\">\n",
       "<title>41</title>\n",
       "<polygon fill=\"#399de5\" stroke=\"black\" points=\"2360.5,-149.5 2268.5,-149.5 2268.5,-96.5 2360.5,-96.5 2360.5,-149.5\"/>\n",
       "<text text-anchor=\"middle\" x=\"2314.5\" y=\"-134.3\" font-family=\"Times,serif\" font-size=\"14.00\">entropy = 0.0</text>\n",
       "<text text-anchor=\"middle\" x=\"2314.5\" y=\"-119.3\" font-family=\"Times,serif\" font-size=\"14.00\">samples = 4</text>\n",
       "<text text-anchor=\"middle\" x=\"2314.5\" y=\"-104.3\" font-family=\"Times,serif\" font-size=\"14.00\">value = [0, 4]</text>\n",
       "</g>\n",
       "<!-- 37&#45;&gt;41 -->\n",
       "<g id=\"edge41\" class=\"edge\">\n",
       "<title>37&#45;&gt;41</title>\n",
       "<path fill=\"none\" stroke=\"black\" d=\"M2206.45,-192.88C2225.6,-180.68 2247.2,-166.9 2266.03,-154.9\"/>\n",
       "<polygon fill=\"black\" stroke=\"black\" points=\"2267.92,-157.85 2274.47,-149.52 2264.15,-151.94 2267.92,-157.85\"/>\n",
       "</g>\n",
       "<!-- 39 -->\n",
       "<g id=\"node40\" class=\"node\">\n",
       "<title>39</title>\n",
       "<polygon fill=\"#e88d4c\" stroke=\"black\" points=\"2207.5,-53 2101.5,-53 2101.5,0 2207.5,0 2207.5,-53\"/>\n",
       "<text text-anchor=\"middle\" x=\"2154.5\" y=\"-37.8\" font-family=\"Times,serif\" font-size=\"14.00\">entropy = 0.433</text>\n",
       "<text text-anchor=\"middle\" x=\"2154.5\" y=\"-22.8\" font-family=\"Times,serif\" font-size=\"14.00\">samples = 45</text>\n",
       "<text text-anchor=\"middle\" x=\"2154.5\" y=\"-7.8\" font-family=\"Times,serif\" font-size=\"14.00\">value = [41, 4]</text>\n",
       "</g>\n",
       "<!-- 38&#45;&gt;39 -->\n",
       "<g id=\"edge39\" class=\"edge\">\n",
       "<title>38&#45;&gt;39</title>\n",
       "<path fill=\"none\" stroke=\"black\" d=\"M2154.5,-88.95C2154.5,-80.72 2154.5,-71.85 2154.5,-63.48\"/>\n",
       "<polygon fill=\"black\" stroke=\"black\" points=\"2158,-63.24 2154.5,-53.24 2151,-63.24 2158,-63.24\"/>\n",
       "</g>\n",
       "<!-- 40 -->\n",
       "<g id=\"node41\" class=\"node\">\n",
       "<title>40</title>\n",
       "<polygon fill=\"#e58139\" stroke=\"black\" points=\"2339,-53 2226,-53 2226,0 2339,0 2339,-53\"/>\n",
       "<text text-anchor=\"middle\" x=\"2282.5\" y=\"-37.8\" font-family=\"Times,serif\" font-size=\"14.00\">entropy = 0.012</text>\n",
       "<text text-anchor=\"middle\" x=\"2282.5\" y=\"-22.8\" font-family=\"Times,serif\" font-size=\"14.00\">samples = 1813</text>\n",
       "<text text-anchor=\"middle\" x=\"2282.5\" y=\"-7.8\" font-family=\"Times,serif\" font-size=\"14.00\">value = [1811, 2]</text>\n",
       "</g>\n",
       "<!-- 38&#45;&gt;40 -->\n",
       "<g id=\"edge40\" class=\"edge\">\n",
       "<title>38&#45;&gt;40</title>\n",
       "<path fill=\"none\" stroke=\"black\" d=\"M2199.27,-88.95C2212.28,-79.34 2226.46,-68.87 2239.37,-59.34\"/>\n",
       "<polygon fill=\"black\" stroke=\"black\" points=\"2241.67,-61.99 2247.64,-53.24 2237.52,-56.36 2241.67,-61.99\"/>\n",
       "</g>\n",
       "<!-- 43 -->\n",
       "<g id=\"node44\" class=\"node\">\n",
       "<title>43</title>\n",
       "<polygon fill=\"#4ca7e8\" stroke=\"black\" points=\"2648.5,-261 2450.5,-261 2450.5,-193 2648.5,-193 2648.5,-261\"/>\n",
       "<text text-anchor=\"middle\" x=\"2549.5\" y=\"-245.8\" font-family=\"Times,serif\" font-size=\"14.00\">Avg_Utilization_Ratio &lt;= 0.542</text>\n",
       "<text text-anchor=\"middle\" x=\"2549.5\" y=\"-230.8\" font-family=\"Times,serif\" font-size=\"14.00\">entropy = 0.433</text>\n",
       "<text text-anchor=\"middle\" x=\"2549.5\" y=\"-215.8\" font-family=\"Times,serif\" font-size=\"14.00\">samples = 573</text>\n",
       "<text text-anchor=\"middle\" x=\"2549.5\" y=\"-200.8\" font-family=\"Times,serif\" font-size=\"14.00\">value = [51, 522]</text>\n",
       "</g>\n",
       "<!-- 42&#45;&gt;43 -->\n",
       "<g id=\"edge43\" class=\"edge\">\n",
       "<title>42&#45;&gt;43</title>\n",
       "<path fill=\"none\" stroke=\"black\" d=\"M2549.5,-296.88C2549.5,-288.78 2549.5,-279.98 2549.5,-271.47\"/>\n",
       "<polygon fill=\"black\" stroke=\"black\" points=\"2553,-271.3 2549.5,-261.3 2546,-271.3 2553,-271.3\"/>\n",
       "</g>\n",
       "<!-- 48 -->\n",
       "<g id=\"node49\" class=\"node\">\n",
       "<title>48</title>\n",
       "<polygon fill=\"#e78d4b\" stroke=\"black\" points=\"2890,-261 2739,-261 2739,-193 2890,-193 2890,-261\"/>\n",
       "<text text-anchor=\"middle\" x=\"2814.5\" y=\"-245.8\" font-family=\"Times,serif\" font-size=\"14.00\">Total_Trans_Ct &lt;= 90.5</text>\n",
       "<text text-anchor=\"middle\" x=\"2814.5\" y=\"-230.8\" font-family=\"Times,serif\" font-size=\"14.00\">entropy = 0.421</text>\n",
       "<text text-anchor=\"middle\" x=\"2814.5\" y=\"-215.8\" font-family=\"Times,serif\" font-size=\"14.00\">samples = 715</text>\n",
       "<text text-anchor=\"middle\" x=\"2814.5\" y=\"-200.8\" font-family=\"Times,serif\" font-size=\"14.00\">value = [654, 61]</text>\n",
       "</g>\n",
       "<!-- 42&#45;&gt;48 -->\n",
       "<g id=\"edge48\" class=\"edge\">\n",
       "<title>42&#45;&gt;48</title>\n",
       "<path fill=\"none\" stroke=\"black\" d=\"M2632.26,-298.15C2663.09,-286.28 2698.12,-272.8 2729.17,-260.84\"/>\n",
       "<polygon fill=\"black\" stroke=\"black\" points=\"2730.6,-264.05 2738.67,-257.19 2728.08,-257.51 2730.6,-264.05\"/>\n",
       "</g>\n",
       "<!-- 44 -->\n",
       "<g id=\"node45\" class=\"node\">\n",
       "<title>44</title>\n",
       "<polygon fill=\"#45a3e7\" stroke=\"black\" points=\"2576.5,-157 2378.5,-157 2378.5,-89 2576.5,-89 2576.5,-157\"/>\n",
       "<text text-anchor=\"middle\" x=\"2477.5\" y=\"-141.8\" font-family=\"Times,serif\" font-size=\"14.00\">Avg_Utilization_Ratio &lt;= 0.104</text>\n",
       "<text text-anchor=\"middle\" x=\"2477.5\" y=\"-126.8\" font-family=\"Times,serif\" font-size=\"14.00\">entropy = 0.312</text>\n",
       "<text text-anchor=\"middle\" x=\"2477.5\" y=\"-111.8\" font-family=\"Times,serif\" font-size=\"14.00\">samples = 553</text>\n",
       "<text text-anchor=\"middle\" x=\"2477.5\" y=\"-96.8\" font-family=\"Times,serif\" font-size=\"14.00\">value = [31, 522]</text>\n",
       "</g>\n",
       "<!-- 43&#45;&gt;44 -->\n",
       "<g id=\"edge44\" class=\"edge\">\n",
       "<title>43&#45;&gt;44</title>\n",
       "<path fill=\"none\" stroke=\"black\" d=\"M2526.12,-192.88C2519.96,-184.15 2513.24,-174.62 2506.8,-165.51\"/>\n",
       "<polygon fill=\"black\" stroke=\"black\" points=\"2509.63,-163.45 2501.01,-157.3 2503.91,-167.49 2509.63,-163.45\"/>\n",
       "</g>\n",
       "<!-- 47 -->\n",
       "<g id=\"node48\" class=\"node\">\n",
       "<title>47</title>\n",
       "<polygon fill=\"#e58139\" stroke=\"black\" points=\"2694,-149.5 2595,-149.5 2595,-96.5 2694,-96.5 2694,-149.5\"/>\n",
       "<text text-anchor=\"middle\" x=\"2644.5\" y=\"-134.3\" font-family=\"Times,serif\" font-size=\"14.00\">entropy = 0.0</text>\n",
       "<text text-anchor=\"middle\" x=\"2644.5\" y=\"-119.3\" font-family=\"Times,serif\" font-size=\"14.00\">samples = 20</text>\n",
       "<text text-anchor=\"middle\" x=\"2644.5\" y=\"-104.3\" font-family=\"Times,serif\" font-size=\"14.00\">value = [20, 0]</text>\n",
       "</g>\n",
       "<!-- 43&#45;&gt;47 -->\n",
       "<g id=\"edge47\" class=\"edge\">\n",
       "<title>43&#45;&gt;47</title>\n",
       "<path fill=\"none\" stroke=\"black\" d=\"M2580.34,-192.88C2591.1,-181.34 2603.16,-168.39 2613.89,-156.86\"/>\n",
       "<polygon fill=\"black\" stroke=\"black\" points=\"2616.48,-159.22 2620.73,-149.52 2611.35,-154.45 2616.48,-159.22\"/>\n",
       "</g>\n",
       "<!-- 45 -->\n",
       "<g id=\"node46\" class=\"node\">\n",
       "<title>45</title>\n",
       "<polygon fill=\"#3c9fe5\" stroke=\"black\" points=\"2502.5,-53 2396.5,-53 2396.5,0 2502.5,0 2502.5,-53\"/>\n",
       "<text text-anchor=\"middle\" x=\"2449.5\" y=\"-37.8\" font-family=\"Times,serif\" font-size=\"14.00\">entropy = 0.12</text>\n",
       "<text text-anchor=\"middle\" x=\"2449.5\" y=\"-22.8\" font-family=\"Times,serif\" font-size=\"14.00\">samples = 432</text>\n",
       "<text text-anchor=\"middle\" x=\"2449.5\" y=\"-7.8\" font-family=\"Times,serif\" font-size=\"14.00\">value = [7, 425]</text>\n",
       "</g>\n",
       "<!-- 44&#45;&gt;45 -->\n",
       "<g id=\"edge45\" class=\"edge\">\n",
       "<title>44&#45;&gt;45</title>\n",
       "<path fill=\"none\" stroke=\"black\" d=\"M2467.71,-88.95C2465.21,-80.53 2462.52,-71.45 2460,-62.92\"/>\n",
       "<polygon fill=\"black\" stroke=\"black\" points=\"2463.32,-61.83 2457.13,-53.24 2456.61,-63.82 2463.32,-61.83\"/>\n",
       "</g>\n",
       "<!-- 46 -->\n",
       "<g id=\"node47\" class=\"node\">\n",
       "<title>46</title>\n",
       "<polygon fill=\"#6ab5eb\" stroke=\"black\" points=\"2626.5,-53 2520.5,-53 2520.5,0 2626.5,0 2626.5,-53\"/>\n",
       "<text text-anchor=\"middle\" x=\"2573.5\" y=\"-37.8\" font-family=\"Times,serif\" font-size=\"14.00\">entropy = 0.719</text>\n",
       "<text text-anchor=\"middle\" x=\"2573.5\" y=\"-22.8\" font-family=\"Times,serif\" font-size=\"14.00\">samples = 121</text>\n",
       "<text text-anchor=\"middle\" x=\"2573.5\" y=\"-7.8\" font-family=\"Times,serif\" font-size=\"14.00\">value = [24, 97]</text>\n",
       "</g>\n",
       "<!-- 44&#45;&gt;46 -->\n",
       "<g id=\"edge46\" class=\"edge\">\n",
       "<title>44&#45;&gt;46</title>\n",
       "<path fill=\"none\" stroke=\"black\" d=\"M2511.08,-88.95C2520.46,-79.71 2530.66,-69.67 2540.04,-60.44\"/>\n",
       "<polygon fill=\"black\" stroke=\"black\" points=\"2542.68,-62.75 2547.35,-53.24 2537.77,-57.76 2542.68,-62.75\"/>\n",
       "</g>\n",
       "<!-- 49 -->\n",
       "<g id=\"node50\" class=\"node\">\n",
       "<title>49</title>\n",
       "<polygon fill=\"#f0b78e\" stroke=\"black\" points=\"2917,-157 2712,-157 2712,-89 2917,-89 2917,-157\"/>\n",
       "<text text-anchor=\"middle\" x=\"2814.5\" y=\"-141.8\" font-family=\"Times,serif\" font-size=\"14.00\">Total_Ct_Chng_Q4_Q1 &lt;= 0.807</text>\n",
       "<text text-anchor=\"middle\" x=\"2814.5\" y=\"-126.8\" font-family=\"Times,serif\" font-size=\"14.00\">entropy = 0.882</text>\n",
       "<text text-anchor=\"middle\" x=\"2814.5\" y=\"-111.8\" font-family=\"Times,serif\" font-size=\"14.00\">samples = 203</text>\n",
       "<text text-anchor=\"middle\" x=\"2814.5\" y=\"-96.8\" font-family=\"Times,serif\" font-size=\"14.00\">value = [142, 61]</text>\n",
       "</g>\n",
       "<!-- 48&#45;&gt;49 -->\n",
       "<g id=\"edge49\" class=\"edge\">\n",
       "<title>48&#45;&gt;49</title>\n",
       "<path fill=\"none\" stroke=\"black\" d=\"M2814.5,-192.88C2814.5,-184.78 2814.5,-175.98 2814.5,-167.47\"/>\n",
       "<polygon fill=\"black\" stroke=\"black\" points=\"2818,-167.3 2814.5,-157.3 2811,-167.3 2818,-167.3\"/>\n",
       "</g>\n",
       "<!-- 52 -->\n",
       "<g id=\"node53\" class=\"node\">\n",
       "<title>52</title>\n",
       "<polygon fill=\"#e58139\" stroke=\"black\" points=\"3041.5,-149.5 2935.5,-149.5 2935.5,-96.5 3041.5,-96.5 3041.5,-149.5\"/>\n",
       "<text text-anchor=\"middle\" x=\"2988.5\" y=\"-134.3\" font-family=\"Times,serif\" font-size=\"14.00\">entropy = 0.0</text>\n",
       "<text text-anchor=\"middle\" x=\"2988.5\" y=\"-119.3\" font-family=\"Times,serif\" font-size=\"14.00\">samples = 512</text>\n",
       "<text text-anchor=\"middle\" x=\"2988.5\" y=\"-104.3\" font-family=\"Times,serif\" font-size=\"14.00\">value = [512, 0]</text>\n",
       "</g>\n",
       "<!-- 48&#45;&gt;52 -->\n",
       "<g id=\"edge52\" class=\"edge\">\n",
       "<title>48&#45;&gt;52</title>\n",
       "<path fill=\"none\" stroke=\"black\" d=\"M2870.99,-192.88C2891.91,-180.62 2915.52,-166.78 2936.07,-154.74\"/>\n",
       "<polygon fill=\"black\" stroke=\"black\" points=\"2938.11,-157.6 2944.97,-149.52 2934.57,-151.56 2938.11,-157.6\"/>\n",
       "</g>\n",
       "<!-- 50 -->\n",
       "<g id=\"node51\" class=\"node\">\n",
       "<title>50</title>\n",
       "<polygon fill=\"#e88e4e\" stroke=\"black\" points=\"2770,-53 2657,-53 2657,0 2770,0 2770,-53\"/>\n",
       "<text text-anchor=\"middle\" x=\"2713.5\" y=\"-37.8\" font-family=\"Times,serif\" font-size=\"14.00\">entropy = 0.455</text>\n",
       "<text text-anchor=\"middle\" x=\"2713.5\" y=\"-22.8\" font-family=\"Times,serif\" font-size=\"14.00\">samples = 136</text>\n",
       "<text text-anchor=\"middle\" x=\"2713.5\" y=\"-7.8\" font-family=\"Times,serif\" font-size=\"14.00\">value = [123, 13]</text>\n",
       "</g>\n",
       "<!-- 49&#45;&gt;50 -->\n",
       "<g id=\"edge50\" class=\"edge\">\n",
       "<title>49&#45;&gt;50</title>\n",
       "<path fill=\"none\" stroke=\"black\" d=\"M2779.18,-88.95C2769.2,-79.62 2758.36,-69.47 2748.41,-60.16\"/>\n",
       "<polygon fill=\"black\" stroke=\"black\" points=\"2750.7,-57.51 2741.01,-53.24 2745.92,-62.62 2750.7,-57.51\"/>\n",
       "</g>\n",
       "<!-- 51 -->\n",
       "<g id=\"node52\" class=\"node\">\n",
       "<title>51</title>\n",
       "<polygon fill=\"#87c4ef\" stroke=\"black\" points=\"2894.5,-53 2788.5,-53 2788.5,0 2894.5,0 2894.5,-53\"/>\n",
       "<text text-anchor=\"middle\" x=\"2841.5\" y=\"-37.8\" font-family=\"Times,serif\" font-size=\"14.00\">entropy = 0.86</text>\n",
       "<text text-anchor=\"middle\" x=\"2841.5\" y=\"-22.8\" font-family=\"Times,serif\" font-size=\"14.00\">samples = 67</text>\n",
       "<text text-anchor=\"middle\" x=\"2841.5\" y=\"-7.8\" font-family=\"Times,serif\" font-size=\"14.00\">value = [19, 48]</text>\n",
       "</g>\n",
       "<!-- 49&#45;&gt;51 -->\n",
       "<g id=\"edge51\" class=\"edge\">\n",
       "<title>49&#45;&gt;51</title>\n",
       "<path fill=\"none\" stroke=\"black\" d=\"M2823.94,-88.95C2826.35,-80.53 2828.94,-71.45 2831.38,-62.92\"/>\n",
       "<polygon fill=\"black\" stroke=\"black\" points=\"2834.76,-63.81 2834.15,-53.24 2828.03,-61.89 2834.76,-63.81\"/>\n",
       "</g>\n",
       "</g>\n",
       "</svg>\n"
      ],
      "text/plain": [
       "<graphviz.files.Source at 0x7fd9935cbf70>"
      ]
     },
     "execution_count": 81,
     "metadata": {},
     "output_type": "execute_result"
    }
   ],
   "source": [
    "graphviz.Source(tree.export_graphviz(model3,\n",
    "                                     out_file=None,\n",
    "                                     feature_names=X.columns.values,\n",
    "                                     filled=True))"
   ]
  },
  {
   "cell_type": "code",
   "execution_count": null,
   "id": "0f45b6e7",
   "metadata": {},
   "outputs": [],
   "source": []
  }
 ],
 "metadata": {
  "kernelspec": {
   "display_name": "Python 3",
   "language": "python",
   "name": "python3"
  },
  "language_info": {
   "codemirror_mode": {
    "name": "ipython",
    "version": 3
   },
   "file_extension": ".py",
   "mimetype": "text/x-python",
   "name": "python",
   "nbconvert_exporter": "python",
   "pygments_lexer": "ipython3",
   "version": "3.8.8"
  }
 },
 "nbformat": 4,
 "nbformat_minor": 5
}
